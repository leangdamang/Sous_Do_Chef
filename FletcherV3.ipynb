{
 "cells": [
  {
   "cell_type": "code",
   "execution_count": 1,
   "metadata": {
    "collapsed": true
   },
   "outputs": [],
   "source": [
    "import pandas as pd\n",
    "import numpy as np\n",
    "import matplotlib.pyplot as plt\n",
    "import json\n",
    "import pickle\n",
    "import seaborn as sns\n",
    "import math\n",
    "import nltk, string\n",
    "import lda\n",
    "import random\n",
    "\n",
    "from pymongo import MongoClient\n",
    "from textblob import TextBlob \n",
    "from nltk.corpus import stopwords\n",
    "from collections import defaultdict\n",
    "from sklearn.externals import joblib \n",
    "from sklearn.feature_extraction.text import TfidfVectorizer, CountVectorizer\n",
    "from sklearn.decomposition import NMF, LatentDirichletAllocation as LDA\n",
    "from sklearn.metrics.pairwise import cosine_similarity\n",
    "from sklearn.cluster import KMeans\n",
    "from sumy.summarizers.text_rank import TextRankSummarizer\n",
    "from sumy.parsers.plaintext import PlaintextParser\n",
    "from sumy.nlp.tokenizers import Tokenizer\n",
    "\n",
    "pd.options.display.max_columns = 10\n",
    "\n",
    "%matplotlib inline\n",
    "\n",
    "\n",
    "def summarize(answer, n_sentences):\n",
    "    summarizer = TextRankSummarizer()\n",
    "    parse = PlaintextParser.from_string(answer, Tokenizer(\"english\"))     \n",
    "    summary = summarizer(parse.document, n_sentences)\n",
    "    return summary\n",
    "\n",
    "def print_top_words(model, feature_names, n_top_words):\n",
    "    for topic_idx, topic in enumerate(model.components_):\n",
    "        message = \"Topic #%d: \" % topic_idx\n",
    "        message += \" \".join([feature_names[i]\n",
    "                             for i in topic.argsort()[:-n_top_words - 1:-1]])\n",
    "        print(message)\n",
    "    print()\n",
    "    \n",
    "def get_top_topic(model):\n",
    "    return np.argmax(model)\n",
    "\n",
    "def get_counts(matrix):\n",
    "    counts = defaultdict(int)\n",
    "    for x in matrix:\n",
    "        counts[np.argmax(x)] +=1\n",
    "    return counts\n",
    "\n",
    "def is_noun(s):\n",
    "    blob = TextBlob(s)\n",
    "    return blob.tags[0][1] == 'NN' or blob.tags[0][1] == 'NNS'\n",
    "\n",
    "def get_predict_df(text):\n",
    "    textl = []\n",
    "    textl.append(text)\n",
    "    df_cat = df_posts[df_posts['topic'] == get_category(textl, tfvtrim, nmftrim)].reset_index()\n",
    "    cattf = TfidfVectorizer(stop_words=stop, ngram_range=(1,2), min_df = 2, max_df = .95, strip_accents = 'ascii')\n",
    "    cattf.fit(df_cat['question'])\n",
    "    query_vector = cattf.transform(df_cat['question'])\n",
    "    text_vec = cattf.transform(textl)\n",
    "    df_cat['similarity'] = pd.DataFrame(cosine_similarity(query_vector, text_vec))\n",
    "    return df_cat.sort_values('similarity', ascending = False).reset_index()\n",
    "\n",
    "def get_category(query, tf, model):\n",
    "    query_vector = tf.transform(query) #transforms it to the tfidf\n",
    "    return get_top_topic(model.transform(query_vector))"
   ]
  },
  {
   "cell_type": "code",
   "execution_count": 2,
   "metadata": {
    "collapsed": true
   },
   "outputs": [],
   "source": [
    "client = MongoClient()\n",
    "db = client.culinary\n",
    "posts = db.culinary\n",
    "posts = db.postsv3"
   ]
  },
  {
   "cell_type": "code",
   "execution_count": 3,
   "metadata": {
    "collapsed": false
   },
   "outputs": [
    {
     "data": {
      "text/plain": [
       "63602"
      ]
     },
     "execution_count": 3,
     "metadata": {},
     "output_type": "execute_result"
    }
   ],
   "source": [
    "posts.count()"
   ]
  },
  {
   "cell_type": "code",
   "execution_count": 4,
   "metadata": {
    "collapsed": false
   },
   "outputs": [
    {
     "name": "stdout",
     "output_type": "stream",
     "text": [
      "_id\n",
      "title\n",
      "text\n",
      "score\n",
      "date\n",
      "top_comment\n",
      "second_comment\n"
     ]
    }
   ],
   "source": [
    "for x in posts.find_one():\n",
    "    print(x)"
   ]
  },
  {
   "cell_type": "code",
   "execution_count": 5,
   "metadata": {
    "collapsed": false
   },
   "outputs": [
    {
     "name": "stdout",
     "output_type": "stream",
     "text": [
      "<class 'pandas.core.frame.DataFrame'>\n",
      "RangeIndex: 63602 entries, 0 to 63601\n",
      "Data columns (total 7 columns):\n",
      "_id               63602 non-null object\n",
      "date              63602 non-null datetime64[ns]\n",
      "score             63602 non-null int64\n",
      "second_comment    57129 non-null object\n",
      "text              63602 non-null object\n",
      "title             63602 non-null object\n",
      "top_comment       62259 non-null object\n",
      "dtypes: datetime64[ns](1), int64(1), object(5)\n",
      "memory usage: 3.4+ MB\n"
     ]
    }
   ],
   "source": [
    "df_posts = pd.DataFrame(list(posts.find()))\n",
    "df_posts.info()"
   ]
  },
  {
   "cell_type": "code",
   "execution_count": 6,
   "metadata": {
    "collapsed": false
   },
   "outputs": [
    {
     "data": {
      "text/plain": [
       "<matplotlib.axes._subplots.AxesSubplot at 0x116684080>"
      ]
     },
     "execution_count": 6,
     "metadata": {},
     "output_type": "execute_result"
    },
    {
     "data": {
      "image/png": "[encoded data removed]",
      "text/plain": [
       "<matplotlib.figure.Figure at 0x10de8e9e8>"
      ]
     },
     "metadata": {},
     "output_type": "display_data"
    }
   ],
   "source": [
    "df_posts['score'].hist(bins = 50)"
   ]
  },
  {
   "cell_type": "code",
   "execution_count": 7,
   "metadata": {
    "collapsed": false
   },
   "outputs": [
    {
     "name": "stdout",
     "output_type": "stream",
     "text": [
      "<class 'pandas.core.frame.DataFrame'>\n",
      "Int64Index: 5753 entries, 0 to 63550\n",
      "Data columns (total 7 columns):\n",
      "_id               5753 non-null object\n",
      "date              5753 non-null datetime64[ns]\n",
      "score             5753 non-null int64\n",
      "second_comment    4522 non-null object\n",
      "text              5753 non-null object\n",
      "title             5753 non-null object\n",
      "top_comment       5406 non-null object\n",
      "dtypes: datetime64[ns](1), int64(1), object(5)\n",
      "memory usage: 359.6+ KB\n"
     ]
    }
   ],
   "source": [
    "df_posts[df_posts['score']<1].info()"
   ]
  },
  {
   "cell_type": "code",
   "execution_count": 8,
   "metadata": {
    "collapsed": true
   },
   "outputs": [],
   "source": [
    "df_posts = df_posts.drop(df_posts[df_posts['score']<1].index)"
   ]
  },
  {
   "cell_type": "code",
   "execution_count": 9,
   "metadata": {
    "collapsed": false
   },
   "outputs": [
    {
     "name": "stdout",
     "output_type": "stream",
     "text": [
      "<class 'pandas.core.frame.DataFrame'>\n",
      "Int64Index: 57849 entries, 3 to 63601\n",
      "Data columns (total 7 columns):\n",
      "_id               57849 non-null object\n",
      "date              57849 non-null datetime64[ns]\n",
      "score             57849 non-null int64\n",
      "second_comment    52607 non-null object\n",
      "text              57849 non-null object\n",
      "title             57849 non-null object\n",
      "top_comment       56853 non-null object\n",
      "dtypes: datetime64[ns](1), int64(1), object(5)\n",
      "memory usage: 3.5+ MB\n"
     ]
    }
   ],
   "source": [
    "df_posts.info()"
   ]
  },
  {
   "cell_type": "code",
   "execution_count": 10,
   "metadata": {
    "collapsed": true
   },
   "outputs": [],
   "source": [
    "df_posts['question'] = df_posts['title'] + ' ' + df_posts['text']"
   ]
  },
  {
   "cell_type": "code",
   "execution_count": 11,
   "metadata": {
    "collapsed": true
   },
   "outputs": [],
   "source": [
    "df_posts=df_posts.drop(['title','text', '_id'], 1)"
   ]
  },
  {
   "cell_type": "code",
   "execution_count": 12,
   "metadata": {
    "collapsed": false
   },
   "outputs": [
    {
     "data": {
      "text/html": [
       "<div>\n",
       "<style>\n",
       "    .dataframe thead tr:only-child th {\n",
       "        text-align: right;\n",
       "    }\n",
       "\n",
       "    .dataframe thead th {\n",
       "        text-align: left;\n",
       "    }\n",
       "\n",
       "    .dataframe tbody tr th {\n",
       "        vertical-align: top;\n",
       "    }\n",
       "</style>\n",
       "<table border=\"1\" class=\"dataframe\">\n",
       "  <thead>\n",
       "    <tr style=\"text-align: right;\">\n",
       "      <th></th>\n",
       "      <th>date</th>\n",
       "      <th>score</th>\n",
       "      <th>second_comment</th>\n",
       "      <th>top_comment</th>\n",
       "      <th>question</th>\n",
       "    </tr>\n",
       "  </thead>\n",
       "  <tbody>\n",
       "    <tr>\n",
       "      <th>3</th>\n",
       "      <td>2017-08-14 02:07:31</td>\n",
       "      <td>2</td>\n",
       "      <td>Guinness is a traditional one. But most darks ...</td>\n",
       "      <td>A dark beer you like to drink because you'll h...</td>\n",
       "      <td>What are good beers for a beef stew? I've hear...</td>\n",
       "    </tr>\n",
       "    <tr>\n",
       "      <th>4</th>\n",
       "      <td>2017-08-14 01:16:19</td>\n",
       "      <td>1</td>\n",
       "      <td>I love mashed potatoes with chili on top. It's...</td>\n",
       "      <td>Grilled cheese</td>\n",
       "      <td>What are some of your favorite comfort foods t...</td>\n",
       "    </tr>\n",
       "    <tr>\n",
       "      <th>5</th>\n",
       "      <td>2017-08-14 01:13:35</td>\n",
       "      <td>10</td>\n",
       "      <td>It's probably cooked. If it's raw, it will hav...</td>\n",
       "      <td>If it's white and flaky, it's cooked. If it's ...</td>\n",
       "      <td>Is my crab meat cooked? I just got back from v...</td>\n",
       "    </tr>\n",
       "    <tr>\n",
       "      <th>6</th>\n",
       "      <td>2017-08-14 00:13:56</td>\n",
       "      <td>4</td>\n",
       "      <td>Heat too low on cooking oil?</td>\n",
       "      <td>Salt the eggplant first. Slice it up and sprin...</td>\n",
       "      <td>Fried eggplant help I'm Italian and my mom alw...</td>\n",
       "    </tr>\n",
       "    <tr>\n",
       "      <th>7</th>\n",
       "      <td>2017-08-13 22:53:34</td>\n",
       "      <td>25</td>\n",
       "      <td>Tarragon?</td>\n",
       "      <td>Yep, tarragon\\n</td>\n",
       "      <td>What is this herb? [I made this more than a fe...</td>\n",
       "    </tr>\n",
       "    <tr>\n",
       "      <th>8</th>\n",
       "      <td>2017-08-13 22:48:13</td>\n",
       "      <td>17</td>\n",
       "      <td>Even when vanilla isn't accompanied by sugar, ...</td>\n",
       "      <td>yep. you could try to mask it, but honestly no...</td>\n",
       "      <td>Vanilla yogurt in chicken tandoori I'm in the ...</td>\n",
       "    </tr>\n",
       "    <tr>\n",
       "      <th>9</th>\n",
       "      <td>2017-08-13 22:10:51</td>\n",
       "      <td>4</td>\n",
       "      <td>I've tried both and there's not a huge differe...</td>\n",
       "      <td>could you explain both methods? never really h...</td>\n",
       "      <td>Alton Browns steamed vs Kenji's baking soda ov...</td>\n",
       "    </tr>\n",
       "    <tr>\n",
       "      <th>10</th>\n",
       "      <td>2017-08-13 21:56:33</td>\n",
       "      <td>2</td>\n",
       "      <td>I've found that the pregrated cheese tends to ...</td>\n",
       "      <td>Most of the time when a cheese sauce gets grit...</td>\n",
       "      <td>Gritty cheese sauce 2tbsp butter\\n\\n2tbsp flou...</td>\n",
       "    </tr>\n",
       "    <tr>\n",
       "      <th>12</th>\n",
       "      <td>2017-08-13 20:59:15</td>\n",
       "      <td>30</td>\n",
       "      <td>Looks like you have a pretty comprehensive non...</td>\n",
       "      <td>https://whatscookingamerica.net/alcoholsub.htm</td>\n",
       "      <td>What are non-alcoholic substitutes for alcohol...</td>\n",
       "    </tr>\n",
       "    <tr>\n",
       "      <th>13</th>\n",
       "      <td>2017-08-13 20:42:36</td>\n",
       "      <td>23</td>\n",
       "      <td>Only thing I can think of is the lime? Have yo...</td>\n",
       "      <td>Do you immediately refrigerate the salsa? If l...</td>\n",
       "      <td>Why does my salsa taste pickle-y I've been rea...</td>\n",
       "    </tr>\n",
       "    <tr>\n",
       "      <th>14</th>\n",
       "      <td>2017-08-13 19:52:11</td>\n",
       "      <td>9</td>\n",
       "      <td>Less acid should yield smaller curds. How high...</td>\n",
       "      <td>I've over-drained my ricotta before and had lu...</td>\n",
       "      <td>Question about acid and milk - making ricotta ...</td>\n",
       "    </tr>\n",
       "    <tr>\n",
       "      <th>15</th>\n",
       "      <td>2017-08-13 19:50:34</td>\n",
       "      <td>4</td>\n",
       "      <td>Two stories I always hear are that the slaves ...</td>\n",
       "      <td>The joke answer is any cheap food, like hot do...</td>\n",
       "      <td>I often hear about \"peasant dishes\" in differe...</td>\n",
       "    </tr>\n",
       "    <tr>\n",
       "      <th>16</th>\n",
       "      <td>2017-08-13 18:41:52</td>\n",
       "      <td>1</td>\n",
       "      <td>If you slow roast them so they lose about 80% ...</td>\n",
       "      <td>Texture will be so fucked, but as you said you...</td>\n",
       "      <td>Freezing fresh tomatoes It's tomato season, an...</td>\n",
       "    </tr>\n",
       "    <tr>\n",
       "      <th>17</th>\n",
       "      <td>2017-08-13 18:27:42</td>\n",
       "      <td>111</td>\n",
       "      <td>Hospitality chef here, generally I don't think...</td>\n",
       "      <td>Not a chef, but own a bar with a very nice \"up...</td>\n",
       "      <td>Question for professional cooks/chefs: Do nutr...</td>\n",
       "    </tr>\n",
       "    <tr>\n",
       "      <th>18</th>\n",
       "      <td>2017-08-13 18:06:58</td>\n",
       "      <td>1</td>\n",
       "      <td>Braise with blended liver, pancetta and fish s...</td>\n",
       "      <td>You could peel the tomatoes beforehand to get ...</td>\n",
       "      <td>Recommendation for a chunky, meaty, garlicky, ...</td>\n",
       "    </tr>\n",
       "    <tr>\n",
       "      <th>19</th>\n",
       "      <td>2017-08-13 16:47:27</td>\n",
       "      <td>245</td>\n",
       "      <td>The Food Lover's Companion is by far my favori...</td>\n",
       "      <td>[*On Food and Cooking*](https://www.amazon.com...</td>\n",
       "      <td>Where can I find descriptions of the functions...</td>\n",
       "    </tr>\n",
       "    <tr>\n",
       "      <th>20</th>\n",
       "      <td>2017-08-13 15:38:27</td>\n",
       "      <td>4</td>\n",
       "      <td>I'd turn them into cookies (macaron style by g...</td>\n",
       "      <td>Toasting will help somewhat. Microwave can wor...</td>\n",
       "      <td>How can I save poor-quality (store-bought) Wal...</td>\n",
       "    </tr>\n",
       "    <tr>\n",
       "      <th>22</th>\n",
       "      <td>2017-08-13 12:16:58</td>\n",
       "      <td>4</td>\n",
       "      <td>Nope.\\n\\n&gt;hanks to its odd appearance and elus...</td>\n",
       "      <td>I don't believe so. Dill pickles are dill cucu...</td>\n",
       "      <td>Australian chefs/cooks: Are American dill pick...</td>\n",
       "    </tr>\n",
       "    <tr>\n",
       "      <th>23</th>\n",
       "      <td>2017-08-13 10:20:38</td>\n",
       "      <td>85</td>\n",
       "      <td>Gewurtztraminer!</td>\n",
       "      <td>This sounds like a wonderful meal and you seem...</td>\n",
       "      <td>Cooking a multi-course dinner to thank a frien...</td>\n",
       "    </tr>\n",
       "    <tr>\n",
       "      <th>24</th>\n",
       "      <td>2017-08-13 08:41:47</td>\n",
       "      <td>15</td>\n",
       "      <td>It is possibly \"sugar bloom\" due to the crysta...</td>\n",
       "      <td>Looks like it's untempered. Temper the chocola...</td>\n",
       "      <td>Help - chocolate dipped marshmallow looks craz...</td>\n",
       "    </tr>\n",
       "    <tr>\n",
       "      <th>25</th>\n",
       "      <td>2017-08-13 08:22:29</td>\n",
       "      <td>39</td>\n",
       "      <td>main difference is a use of coconut milk/cream...</td>\n",
       "      <td>This is a great PBS cooking series for south I...</td>\n",
       "      <td>Southern Indian cooking Does anyone cook south...</td>\n",
       "    </tr>\n",
       "    <tr>\n",
       "      <th>26</th>\n",
       "      <td>2017-08-13 07:40:08</td>\n",
       "      <td>7</td>\n",
       "      <td>A very simple Lemon/Lime and Oil sauce should ...</td>\n",
       "      <td>Personally I think balsamic vinaigrette might ...</td>\n",
       "      <td>Chickpea-Pasta Salad Recipe I have a recipe in...</td>\n",
       "    </tr>\n",
       "    <tr>\n",
       "      <th>27</th>\n",
       "      <td>2017-08-13 07:04:55</td>\n",
       "      <td>14</td>\n",
       "      <td>Parmesan Orzo with Asparagus (or peas)</td>\n",
       "      <td>One of my favorite ways to have pasta, one pot...</td>\n",
       "      <td>I need a side dish of pasta besides pasta sala...</td>\n",
       "    </tr>\n",
       "    <tr>\n",
       "      <th>28</th>\n",
       "      <td>2017-08-13 06:54:49</td>\n",
       "      <td>11</td>\n",
       "      <td>Knife sets are generally recommended against a...</td>\n",
       "      <td>A thermometer. A good one, I love my thermapen.</td>\n",
       "      <td>I want to \"buy my kitchen once\" and am looking...</td>\n",
       "    </tr>\n",
       "    <tr>\n",
       "      <th>29</th>\n",
       "      <td>2017-08-13 06:31:48</td>\n",
       "      <td>3</td>\n",
       "      <td>You had octopus salad and you're not even gonn...</td>\n",
       "      <td>Capers \\n\\nThe pickled immature flower bud of ...</td>\n",
       "      <td>Could someone help me identify this ingredient...</td>\n",
       "    </tr>\n",
       "    <tr>\n",
       "      <th>30</th>\n",
       "      <td>2017-08-13 06:12:13</td>\n",
       "      <td>1</td>\n",
       "      <td>I do olive oil, lemon juice, pepper, garlic &amp; ...</td>\n",
       "      <td>[This](https://www.google.com/amp/www.delish.c...</td>\n",
       "      <td>Marinades for Oven-Baked Chicken For the sake ...</td>\n",
       "    </tr>\n",
       "    <tr>\n",
       "      <th>31</th>\n",
       "      <td>2017-08-13 06:06:47</td>\n",
       "      <td>1</td>\n",
       "      <td>&gt;While the oil is heating up, slice the corn o...</td>\n",
       "      <td>Too greasy for my tastes and that's not Elotes...</td>\n",
       "      <td>Recipe: Vegan Elote-Style Roasted Corn Salad [...</td>\n",
       "    </tr>\n",
       "    <tr>\n",
       "      <th>32</th>\n",
       "      <td>2017-08-13 06:02:36</td>\n",
       "      <td>2</td>\n",
       "      <td>Enameled cast iron Dutch oven, for sure. Such ...</td>\n",
       "      <td>Smoker, sous vide machine, pressure cooker are...</td>\n",
       "      <td>What piece of cookware transformed your cookin...</td>\n",
       "    </tr>\n",
       "    <tr>\n",
       "      <th>33</th>\n",
       "      <td>2017-08-13 05:16:27</td>\n",
       "      <td>4</td>\n",
       "      <td>None</td>\n",
       "      <td>None</td>\n",
       "      <td>White bean ragout with wine? I went to this re...</td>\n",
       "    </tr>\n",
       "    <tr>\n",
       "      <th>35</th>\n",
       "      <td>2017-08-13 04:12:27</td>\n",
       "      <td>14</td>\n",
       "      <td>Yes. But it's your money so do what you like</td>\n",
       "      <td>I think it's a little unnecessary to continue ...</td>\n",
       "      <td>Is it a waste of a good steak to prepare it wi...</td>\n",
       "    </tr>\n",
       "    <tr>\n",
       "      <th>...</th>\n",
       "      <td>...</td>\n",
       "      <td>...</td>\n",
       "      <td>...</td>\n",
       "      <td>...</td>\n",
       "      <td>...</td>\n",
       "    </tr>\n",
       "    <tr>\n",
       "      <th>63572</th>\n",
       "      <td>2014-12-02 00:25:18</td>\n",
       "      <td>90</td>\n",
       "      <td>I would love if someone gave me exotic salt.</td>\n",
       "      <td>A new cutting board is likely well-received too.</td>\n",
       "      <td>My Secret Santa likes to cook. Suggestions? So...</td>\n",
       "    </tr>\n",
       "    <tr>\n",
       "      <th>63573</th>\n",
       "      <td>2014-12-01 23:44:03</td>\n",
       "      <td>46</td>\n",
       "      <td>We have a Ninja Ultima blender. It has been fa...</td>\n",
       "      <td>I like a good CHEAP blender for just the basic...</td>\n",
       "      <td>600W + Blender Recomendations My mum has asked...</td>\n",
       "    </tr>\n",
       "    <tr>\n",
       "      <th>63574</th>\n",
       "      <td>2014-12-01 23:32:53</td>\n",
       "      <td>7</td>\n",
       "      <td>Personally, I prefer making a coulis rather th...</td>\n",
       "      <td>It is simple. The optimal method depends on yo...</td>\n",
       "      <td>How to Make A Fruit Puree I'm looking at a mou...</td>\n",
       "    </tr>\n",
       "    <tr>\n",
       "      <th>63575</th>\n",
       "      <td>2014-12-01 23:16:54</td>\n",
       "      <td>52</td>\n",
       "      <td>What you're looking for is more like a chutney...</td>\n",
       "      <td>Mango, red bell pepper, red onion, cilantro, r...</td>\n",
       "      <td>Any suggestions for a NO HEAT peach/mango sals...</td>\n",
       "    </tr>\n",
       "    <tr>\n",
       "      <th>63576</th>\n",
       "      <td>2014-12-01 22:58:12</td>\n",
       "      <td>71</td>\n",
       "      <td>Duck eggs have a larger, creamier yolk. They a...</td>\n",
       "      <td>Like one of the other posters said, they're ri...</td>\n",
       "      <td>What's the best way to cook duck eggs? I was g...</td>\n",
       "    </tr>\n",
       "    <tr>\n",
       "      <th>63577</th>\n",
       "      <td>2014-12-01 22:50:22</td>\n",
       "      <td>62</td>\n",
       "      <td>Anova is also running a $30 off deal on their ...</td>\n",
       "      <td>I still dont understand how there isnt a $50 s...</td>\n",
       "      <td>Amazon has the Anova Sous Vide Immersion Circu...</td>\n",
       "    </tr>\n",
       "    <tr>\n",
       "      <th>63578</th>\n",
       "      <td>2014-12-01 22:42:16</td>\n",
       "      <td>27</td>\n",
       "      <td>Chicken Dijon.  You'll need:\\n\\n    skinless c...</td>\n",
       "      <td>1. Chicken Breasts.\\n2. Basil Pesto.\\n3. Cauli...</td>\n",
       "      <td>Hi! first time posting on this sub. i'm lookin...</td>\n",
       "    </tr>\n",
       "    <tr>\n",
       "      <th>63579</th>\n",
       "      <td>2014-12-01 22:35:17</td>\n",
       "      <td>40</td>\n",
       "      <td>Gift her the cake decorating classes at your l...</td>\n",
       "      <td>get her a whole mess of tips, and a few differ...</td>\n",
       "      <td>What would one need for cake decorating? My fi...</td>\n",
       "    </tr>\n",
       "    <tr>\n",
       "      <th>63580</th>\n",
       "      <td>2014-12-01 22:14:07</td>\n",
       "      <td>88</td>\n",
       "      <td>Venison needs to be cooked hot and fast, or br...</td>\n",
       "      <td>Pepper steaks.  Salt the steaks and then press...</td>\n",
       "      <td>Customer gave me some Venison steaks... what s...</td>\n",
       "    </tr>\n",
       "    <tr>\n",
       "      <th>63581</th>\n",
       "      <td>2014-12-01 22:13:18</td>\n",
       "      <td>120</td>\n",
       "      <td>My experience is pressure cooking gets you a m...</td>\n",
       "      <td>Other commenters offered viable techniques, I'...</td>\n",
       "      <td>How to cook shredded chicken for tacos The Mex...</td>\n",
       "    </tr>\n",
       "    <tr>\n",
       "      <th>63582</th>\n",
       "      <td>2014-12-01 22:04:29</td>\n",
       "      <td>40</td>\n",
       "      <td>No, I don't change out my spatula.  For one th...</td>\n",
       "      <td>I wash my knives with a sponge and soapy water...</td>\n",
       "      <td>Kitchen hygiene: How do you wash your knives? ...</td>\n",
       "    </tr>\n",
       "    <tr>\n",
       "      <th>63583</th>\n",
       "      <td>2014-12-01 21:31:15</td>\n",
       "      <td>35</td>\n",
       "      <td>you should try /r/offal</td>\n",
       "      <td>This Thanksgiving we stayed in town, so it was...</td>\n",
       "      <td>What are your favorite recipes for offal? Titl...</td>\n",
       "    </tr>\n",
       "    <tr>\n",
       "      <th>63584</th>\n",
       "      <td>2014-12-01 20:31:36</td>\n",
       "      <td>48</td>\n",
       "      <td>Le Creuset enameled cast iron dutch oven. Very...</td>\n",
       "      <td>Do you have something specific in mind? Like, ...</td>\n",
       "      <td>Can anyone recommend some cute and colorful ki...</td>\n",
       "    </tr>\n",
       "    <tr>\n",
       "      <th>63585</th>\n",
       "      <td>2014-12-01 20:21:07</td>\n",
       "      <td>17</td>\n",
       "      <td>The subset of \"sugar-free pecan pie\" and \"good...</td>\n",
       "      <td>Sugar is an integral part of pecan pie. Really...</td>\n",
       "      <td>Anyone have a tried and true sugar free pecan ...</td>\n",
       "    </tr>\n",
       "    <tr>\n",
       "      <th>63586</th>\n",
       "      <td>2014-12-01 19:47:52</td>\n",
       "      <td>55</td>\n",
       "      <td>Roasted veggie and black bean burritos: http:/...</td>\n",
       "      <td>Lasagna! Don't over do it with watery vegetabl...</td>\n",
       "      <td>What are your best freeze and reheat meals? Bo...</td>\n",
       "    </tr>\n",
       "    <tr>\n",
       "      <th>63587</th>\n",
       "      <td>2014-12-01 19:27:32</td>\n",
       "      <td>13</td>\n",
       "      <td>We have a Kenmore Elite mixer. My wife uses th...</td>\n",
       "      <td>[refurb pro 600 for $179 with free ship](http:...</td>\n",
       "      <td>Can you recommend a less expensive KitchenAid ...</td>\n",
       "    </tr>\n",
       "    <tr>\n",
       "      <th>63588</th>\n",
       "      <td>2014-12-01 18:59:18</td>\n",
       "      <td>46</td>\n",
       "      <td>huh, TIL</td>\n",
       "      <td>[This](http://prettyhungryblog.com/2013/12/20/...</td>\n",
       "      <td>Vinegar Pie recipe At the risk of coming off a...</td>\n",
       "    </tr>\n",
       "    <tr>\n",
       "      <th>63589</th>\n",
       "      <td>2014-12-01 17:40:28</td>\n",
       "      <td>16</td>\n",
       "      <td>There's this too: http://amazingribs.com/tips_...</td>\n",
       "      <td>In non-scientific terms, the liquid in the mea...</td>\n",
       "      <td>What's the point of letting meat \"rest?\" Is th...</td>\n",
       "    </tr>\n",
       "    <tr>\n",
       "      <th>63590</th>\n",
       "      <td>2014-12-01 17:40:25</td>\n",
       "      <td>11</td>\n",
       "      <td>None</td>\n",
       "      <td>https://www.youtube.com/watch?v=r6EgtD2GgXE\\n\\...</td>\n",
       "      <td>Bin stuck in coffee machine (Jura Ena Micro) H...</td>\n",
       "    </tr>\n",
       "    <tr>\n",
       "      <th>63591</th>\n",
       "      <td>2014-12-01 13:20:58</td>\n",
       "      <td>219</td>\n",
       "      <td>The only thing that matters is a thermometer. ...</td>\n",
       "      <td>Get a thermometer, and essentially by practice...</td>\n",
       "      <td>How do I cook a perfect steak (grill, pan, or ...</td>\n",
       "    </tr>\n",
       "    <tr>\n",
       "      <th>63592</th>\n",
       "      <td>2014-12-01 08:42:19</td>\n",
       "      <td>1</td>\n",
       "      <td>I haven't used an electric stove top in years....</td>\n",
       "      <td>It has taken me forever to learn my stove (it'...</td>\n",
       "      <td>Cooking with no smoke Most recipes start by sa...</td>\n",
       "    </tr>\n",
       "    <tr>\n",
       "      <th>63593</th>\n",
       "      <td>2014-12-01 08:15:16</td>\n",
       "      <td>6</td>\n",
       "      <td>None</td>\n",
       "      <td>None</td>\n",
       "      <td>Honey and Cinnamon Roasted Pears Serve warm ht...</td>\n",
       "    </tr>\n",
       "    <tr>\n",
       "      <th>63594</th>\n",
       "      <td>2014-12-01 07:40:19</td>\n",
       "      <td>9</td>\n",
       "      <td>toss it to be safe. buy one that is cooked. do...</td>\n",
       "      <td>If it's already thawed, you shouldn't refreeze...</td>\n",
       "      <td>Not sure if the turkey is safe or not So my mo...</td>\n",
       "    </tr>\n",
       "    <tr>\n",
       "      <th>63595</th>\n",
       "      <td>2014-12-01 07:07:43</td>\n",
       "      <td>2</td>\n",
       "      <td>Weight.</td>\n",
       "      <td>They are the same at normal pressure and room ...</td>\n",
       "      <td>Dough recipe which lists all ingredients in we...</td>\n",
       "    </tr>\n",
       "    <tr>\n",
       "      <th>63596</th>\n",
       "      <td>2014-12-01 06:26:09</td>\n",
       "      <td>4</td>\n",
       "      <td>You can use just about any pan. My guess is th...</td>\n",
       "      <td>Do you have a similar sized stainless steel pa...</td>\n",
       "      <td>Wanted to make a cheese dip tonight, but recip...</td>\n",
       "    </tr>\n",
       "    <tr>\n",
       "      <th>63597</th>\n",
       "      <td>2014-12-01 06:06:16</td>\n",
       "      <td>2</td>\n",
       "      <td>Totally misread the title. Thought you wanted ...</td>\n",
       "      <td>Mustard and maple syrup chicken! It has great ...</td>\n",
       "      <td>I'd like to cook my entire family dinner. I ha...</td>\n",
       "    </tr>\n",
       "    <tr>\n",
       "      <th>63598</th>\n",
       "      <td>2014-12-01 05:31:24</td>\n",
       "      <td>16</td>\n",
       "      <td>I'm super cheap and still wouldn't do this, if...</td>\n",
       "      <td>Sure! Hush Puppies come from mixing the egg an...</td>\n",
       "      <td>Question about cooking the Eggs you've used fo...</td>\n",
       "    </tr>\n",
       "    <tr>\n",
       "      <th>63599</th>\n",
       "      <td>2014-12-01 05:30:06</td>\n",
       "      <td>4</td>\n",
       "      <td>Someone's trying to kill you.</td>\n",
       "      <td>That's an absolutely horrible idea. Even if th...</td>\n",
       "      <td>Boil and fry? Someone just told me about boili...</td>\n",
       "    </tr>\n",
       "    <tr>\n",
       "      <th>63600</th>\n",
       "      <td>2014-12-01 05:12:23</td>\n",
       "      <td>57</td>\n",
       "      <td>For the less tender cuts deer stroganoff.  Yummy.</td>\n",
       "      <td>Venison fajitas are REALLY good. Also good way...</td>\n",
       "      <td>I brought back half a freezer's worth of deer ...</td>\n",
       "    </tr>\n",
       "    <tr>\n",
       "      <th>63601</th>\n",
       "      <td>2014-12-01 03:19:10</td>\n",
       "      <td>3</td>\n",
       "      <td>Here is an article from the author of the reci...</td>\n",
       "      <td>No; it does not work like that.  Fiddling with...</td>\n",
       "      <td>What effect does slightly less yeast / slightl...</td>\n",
       "    </tr>\n",
       "  </tbody>\n",
       "</table>\n",
       "<p>57849 rows × 5 columns</p>\n",
       "</div>"
      ],
      "text/plain": [
       "                     date  score  \\\n",
       "3     2017-08-14 02:07:31      2   \n",
       "4     2017-08-14 01:16:19      1   \n",
       "5     2017-08-14 01:13:35     10   \n",
       "6     2017-08-14 00:13:56      4   \n",
       "7     2017-08-13 22:53:34     25   \n",
       "8     2017-08-13 22:48:13     17   \n",
       "9     2017-08-13 22:10:51      4   \n",
       "10    2017-08-13 21:56:33      2   \n",
       "12    2017-08-13 20:59:15     30   \n",
       "13    2017-08-13 20:42:36     23   \n",
       "14    2017-08-13 19:52:11      9   \n",
       "15    2017-08-13 19:50:34      4   \n",
       "16    2017-08-13 18:41:52      1   \n",
       "17    2017-08-13 18:27:42    111   \n",
       "18    2017-08-13 18:06:58      1   \n",
       "19    2017-08-13 16:47:27    245   \n",
       "20    2017-08-13 15:38:27      4   \n",
       "22    2017-08-13 12:16:58      4   \n",
       "23    2017-08-13 10:20:38     85   \n",
       "24    2017-08-13 08:41:47     15   \n",
       "25    2017-08-13 08:22:29     39   \n",
       "26    2017-08-13 07:40:08      7   \n",
       "27    2017-08-13 07:04:55     14   \n",
       "28    2017-08-13 06:54:49     11   \n",
       "29    2017-08-13 06:31:48      3   \n",
       "30    2017-08-13 06:12:13      1   \n",
       "31    2017-08-13 06:06:47      1   \n",
       "32    2017-08-13 06:02:36      2   \n",
       "33    2017-08-13 05:16:27      4   \n",
       "35    2017-08-13 04:12:27     14   \n",
       "...                   ...    ...   \n",
       "63572 2014-12-02 00:25:18     90   \n",
       "63573 2014-12-01 23:44:03     46   \n",
       "63574 2014-12-01 23:32:53      7   \n",
       "63575 2014-12-01 23:16:54     52   \n",
       "63576 2014-12-01 22:58:12     71   \n",
       "63577 2014-12-01 22:50:22     62   \n",
       "63578 2014-12-01 22:42:16     27   \n",
       "63579 2014-12-01 22:35:17     40   \n",
       "63580 2014-12-01 22:14:07     88   \n",
       "63581 2014-12-01 22:13:18    120   \n",
       "63582 2014-12-01 22:04:29     40   \n",
       "63583 2014-12-01 21:31:15     35   \n",
       "63584 2014-12-01 20:31:36     48   \n",
       "63585 2014-12-01 20:21:07     17   \n",
       "63586 2014-12-01 19:47:52     55   \n",
       "63587 2014-12-01 19:27:32     13   \n",
       "63588 2014-12-01 18:59:18     46   \n",
       "63589 2014-12-01 17:40:28     16   \n",
       "63590 2014-12-01 17:40:25     11   \n",
       "63591 2014-12-01 13:20:58    219   \n",
       "63592 2014-12-01 08:42:19      1   \n",
       "63593 2014-12-01 08:15:16      6   \n",
       "63594 2014-12-01 07:40:19      9   \n",
       "63595 2014-12-01 07:07:43      2   \n",
       "63596 2014-12-01 06:26:09      4   \n",
       "63597 2014-12-01 06:06:16      2   \n",
       "63598 2014-12-01 05:31:24     16   \n",
       "63599 2014-12-01 05:30:06      4   \n",
       "63600 2014-12-01 05:12:23     57   \n",
       "63601 2014-12-01 03:19:10      3   \n",
       "\n",
       "                                          second_comment  \\\n",
       "3      Guinness is a traditional one. But most darks ...   \n",
       "4      I love mashed potatoes with chili on top. It's...   \n",
       "5      It's probably cooked. If it's raw, it will hav...   \n",
       "6                           Heat too low on cooking oil?   \n",
       "7                                              Tarragon?   \n",
       "8      Even when vanilla isn't accompanied by sugar, ...   \n",
       "9      I've tried both and there's not a huge differe...   \n",
       "10     I've found that the pregrated cheese tends to ...   \n",
       "12     Looks like you have a pretty comprehensive non...   \n",
       "13     Only thing I can think of is the lime? Have yo...   \n",
       "14     Less acid should yield smaller curds. How high...   \n",
       "15     Two stories I always hear are that the slaves ...   \n",
       "16     If you slow roast them so they lose about 80% ...   \n",
       "17     Hospitality chef here, generally I don't think...   \n",
       "18     Braise with blended liver, pancetta and fish s...   \n",
       "19     The Food Lover's Companion is by far my favori...   \n",
       "20     I'd turn them into cookies (macaron style by g...   \n",
       "22     Nope.\\n\\n>hanks to its odd appearance and elus...   \n",
       "23                                      Gewurtztraminer!   \n",
       "24     It is possibly \"sugar bloom\" due to the crysta...   \n",
       "25     main difference is a use of coconut milk/cream...   \n",
       "26     A very simple Lemon/Lime and Oil sauce should ...   \n",
       "27               Parmesan Orzo with Asparagus (or peas)    \n",
       "28     Knife sets are generally recommended against a...   \n",
       "29     You had octopus salad and you're not even gonn...   \n",
       "30     I do olive oil, lemon juice, pepper, garlic & ...   \n",
       "31     >While the oil is heating up, slice the corn o...   \n",
       "32     Enameled cast iron Dutch oven, for sure. Such ...   \n",
       "33                                                  None   \n",
       "35          Yes. But it's your money so do what you like   \n",
       "...                                                  ...   \n",
       "63572      I would love if someone gave me exotic salt.    \n",
       "63573  We have a Ninja Ultima blender. It has been fa...   \n",
       "63574  Personally, I prefer making a coulis rather th...   \n",
       "63575  What you're looking for is more like a chutney...   \n",
       "63576  Duck eggs have a larger, creamier yolk. They a...   \n",
       "63577  Anova is also running a $30 off deal on their ...   \n",
       "63578  Chicken Dijon.  You'll need:\\n\\n    skinless c...   \n",
       "63579  Gift her the cake decorating classes at your l...   \n",
       "63580  Venison needs to be cooked hot and fast, or br...   \n",
       "63581  My experience is pressure cooking gets you a m...   \n",
       "63582  No, I don't change out my spatula.  For one th...   \n",
       "63583                           you should try /r/offal    \n",
       "63584  Le Creuset enameled cast iron dutch oven. Very...   \n",
       "63585  The subset of \"sugar-free pecan pie\" and \"good...   \n",
       "63586  Roasted veggie and black bean burritos: http:/...   \n",
       "63587  We have a Kenmore Elite mixer. My wife uses th...   \n",
       "63588                                           huh, TIL   \n",
       "63589  There's this too: http://amazingribs.com/tips_...   \n",
       "63590                                               None   \n",
       "63591  The only thing that matters is a thermometer. ...   \n",
       "63592  I haven't used an electric stove top in years....   \n",
       "63593                                               None   \n",
       "63594  toss it to be safe. buy one that is cooked. do...   \n",
       "63595                                          Weight.     \n",
       "63596  You can use just about any pan. My guess is th...   \n",
       "63597  Totally misread the title. Thought you wanted ...   \n",
       "63598  I'm super cheap and still wouldn't do this, if...   \n",
       "63599                      Someone's trying to kill you.   \n",
       "63600  For the less tender cuts deer stroganoff.  Yummy.   \n",
       "63601  Here is an article from the author of the reci...   \n",
       "\n",
       "                                             top_comment  \\\n",
       "3      A dark beer you like to drink because you'll h...   \n",
       "4                                        Grilled cheese    \n",
       "5      If it's white and flaky, it's cooked. If it's ...   \n",
       "6      Salt the eggplant first. Slice it up and sprin...   \n",
       "7                                        Yep, tarragon\\n   \n",
       "8      yep. you could try to mask it, but honestly no...   \n",
       "9      could you explain both methods? never really h...   \n",
       "10     Most of the time when a cheese sauce gets grit...   \n",
       "12        https://whatscookingamerica.net/alcoholsub.htm   \n",
       "13     Do you immediately refrigerate the salsa? If l...   \n",
       "14     I've over-drained my ricotta before and had lu...   \n",
       "15     The joke answer is any cheap food, like hot do...   \n",
       "16     Texture will be so fucked, but as you said you...   \n",
       "17     Not a chef, but own a bar with a very nice \"up...   \n",
       "18     You could peel the tomatoes beforehand to get ...   \n",
       "19     [*On Food and Cooking*](https://www.amazon.com...   \n",
       "20     Toasting will help somewhat. Microwave can wor...   \n",
       "22     I don't believe so. Dill pickles are dill cucu...   \n",
       "23     This sounds like a wonderful meal and you seem...   \n",
       "24     Looks like it's untempered. Temper the chocola...   \n",
       "25     This is a great PBS cooking series for south I...   \n",
       "26     Personally I think balsamic vinaigrette might ...   \n",
       "27     One of my favorite ways to have pasta, one pot...   \n",
       "28       A thermometer. A good one, I love my thermapen.   \n",
       "29     Capers \\n\\nThe pickled immature flower bud of ...   \n",
       "30     [This](https://www.google.com/amp/www.delish.c...   \n",
       "31     Too greasy for my tastes and that's not Elotes...   \n",
       "32     Smoker, sous vide machine, pressure cooker are...   \n",
       "33                                                  None   \n",
       "35     I think it's a little unnecessary to continue ...   \n",
       "...                                                  ...   \n",
       "63572   A new cutting board is likely well-received too.   \n",
       "63573  I like a good CHEAP blender for just the basic...   \n",
       "63574  It is simple. The optimal method depends on yo...   \n",
       "63575  Mango, red bell pepper, red onion, cilantro, r...   \n",
       "63576  Like one of the other posters said, they're ri...   \n",
       "63577  I still dont understand how there isnt a $50 s...   \n",
       "63578  1. Chicken Breasts.\\n2. Basil Pesto.\\n3. Cauli...   \n",
       "63579  get her a whole mess of tips, and a few differ...   \n",
       "63580  Pepper steaks.  Salt the steaks and then press...   \n",
       "63581  Other commenters offered viable techniques, I'...   \n",
       "63582  I wash my knives with a sponge and soapy water...   \n",
       "63583  This Thanksgiving we stayed in town, so it was...   \n",
       "63584  Do you have something specific in mind? Like, ...   \n",
       "63585  Sugar is an integral part of pecan pie. Really...   \n",
       "63586  Lasagna! Don't over do it with watery vegetabl...   \n",
       "63587  [refurb pro 600 for $179 with free ship](http:...   \n",
       "63588  [This](http://prettyhungryblog.com/2013/12/20/...   \n",
       "63589  In non-scientific terms, the liquid in the mea...   \n",
       "63590  https://www.youtube.com/watch?v=r6EgtD2GgXE\\n\\...   \n",
       "63591  Get a thermometer, and essentially by practice...   \n",
       "63592  It has taken me forever to learn my stove (it'...   \n",
       "63593                                               None   \n",
       "63594  If it's already thawed, you shouldn't refreeze...   \n",
       "63595  They are the same at normal pressure and room ...   \n",
       "63596  Do you have a similar sized stainless steel pa...   \n",
       "63597  Mustard and maple syrup chicken! It has great ...   \n",
       "63598  Sure! Hush Puppies come from mixing the egg an...   \n",
       "63599  That's an absolutely horrible idea. Even if th...   \n",
       "63600  Venison fajitas are REALLY good. Also good way...   \n",
       "63601  No; it does not work like that.  Fiddling with...   \n",
       "\n",
       "                                                question  \n",
       "3      What are good beers for a beef stew? I've hear...  \n",
       "4      What are some of your favorite comfort foods t...  \n",
       "5      Is my crab meat cooked? I just got back from v...  \n",
       "6      Fried eggplant help I'm Italian and my mom alw...  \n",
       "7      What is this herb? [I made this more than a fe...  \n",
       "8      Vanilla yogurt in chicken tandoori I'm in the ...  \n",
       "9      Alton Browns steamed vs Kenji's baking soda ov...  \n",
       "10     Gritty cheese sauce 2tbsp butter\\n\\n2tbsp flou...  \n",
       "12     What are non-alcoholic substitutes for alcohol...  \n",
       "13     Why does my salsa taste pickle-y I've been rea...  \n",
       "14     Question about acid and milk - making ricotta ...  \n",
       "15     I often hear about \"peasant dishes\" in differe...  \n",
       "16     Freezing fresh tomatoes It's tomato season, an...  \n",
       "17     Question for professional cooks/chefs: Do nutr...  \n",
       "18     Recommendation for a chunky, meaty, garlicky, ...  \n",
       "19     Where can I find descriptions of the functions...  \n",
       "20     How can I save poor-quality (store-bought) Wal...  \n",
       "22     Australian chefs/cooks: Are American dill pick...  \n",
       "23     Cooking a multi-course dinner to thank a frien...  \n",
       "24     Help - chocolate dipped marshmallow looks craz...  \n",
       "25     Southern Indian cooking Does anyone cook south...  \n",
       "26     Chickpea-Pasta Salad Recipe I have a recipe in...  \n",
       "27     I need a side dish of pasta besides pasta sala...  \n",
       "28     I want to \"buy my kitchen once\" and am looking...  \n",
       "29     Could someone help me identify this ingredient...  \n",
       "30     Marinades for Oven-Baked Chicken For the sake ...  \n",
       "31     Recipe: Vegan Elote-Style Roasted Corn Salad [...  \n",
       "32     What piece of cookware transformed your cookin...  \n",
       "33     White bean ragout with wine? I went to this re...  \n",
       "35     Is it a waste of a good steak to prepare it wi...  \n",
       "...                                                  ...  \n",
       "63572  My Secret Santa likes to cook. Suggestions? So...  \n",
       "63573  600W + Blender Recomendations My mum has asked...  \n",
       "63574  How to Make A Fruit Puree I'm looking at a mou...  \n",
       "63575  Any suggestions for a NO HEAT peach/mango sals...  \n",
       "63576  What's the best way to cook duck eggs? I was g...  \n",
       "63577  Amazon has the Anova Sous Vide Immersion Circu...  \n",
       "63578  Hi! first time posting on this sub. i'm lookin...  \n",
       "63579  What would one need for cake decorating? My fi...  \n",
       "63580  Customer gave me some Venison steaks... what s...  \n",
       "63581  How to cook shredded chicken for tacos The Mex...  \n",
       "63582  Kitchen hygiene: How do you wash your knives? ...  \n",
       "63583  What are your favorite recipes for offal? Titl...  \n",
       "63584  Can anyone recommend some cute and colorful ki...  \n",
       "63585  Anyone have a tried and true sugar free pecan ...  \n",
       "63586  What are your best freeze and reheat meals? Bo...  \n",
       "63587  Can you recommend a less expensive KitchenAid ...  \n",
       "63588  Vinegar Pie recipe At the risk of coming off a...  \n",
       "63589  What's the point of letting meat \"rest?\" Is th...  \n",
       "63590  Bin stuck in coffee machine (Jura Ena Micro) H...  \n",
       "63591  How do I cook a perfect steak (grill, pan, or ...  \n",
       "63592  Cooking with no smoke Most recipes start by sa...  \n",
       "63593  Honey and Cinnamon Roasted Pears Serve warm ht...  \n",
       "63594  Not sure if the turkey is safe or not So my mo...  \n",
       "63595  Dough recipe which lists all ingredients in we...  \n",
       "63596  Wanted to make a cheese dip tonight, but recip...  \n",
       "63597  I'd like to cook my entire family dinner. I ha...  \n",
       "63598  Question about cooking the Eggs you've used fo...  \n",
       "63599  Boil and fry? Someone just told me about boili...  \n",
       "63600  I brought back half a freezer's worth of deer ...  \n",
       "63601  What effect does slightly less yeast / slightl...  \n",
       "\n",
       "[57849 rows x 5 columns]"
      ]
     },
     "execution_count": 12,
     "metadata": {},
     "output_type": "execute_result"
    }
   ],
   "source": [
    "df_posts"
   ]
  },
  {
   "cell_type": "code",
   "execution_count": 13,
   "metadata": {
    "collapsed": false
   },
   "outputs": [
    {
     "data": {
      "text/plain": [
       "<matplotlib.axes._subplots.AxesSubplot at 0x11b46ae48>"
      ]
     },
     "execution_count": 13,
     "metadata": {},
     "output_type": "execute_result"
    },
    {
     "data": {
      "image/png": "[encoded data removed]",
      "text/plain": [
       "<matplotlib.figure.Figure at 0x11b37ed68>"
      ]
     },
     "metadata": {},
     "output_type": "display_data"
    }
   ],
   "source": [
    "counts = df_posts.groupby(df_posts.date.dt.hour)['top_comment'].count()\n",
    "counts.plot(x='hour', y='posts',  title = 'Posts by Hour')"
   ]
  },
  {
   "cell_type": "code",
   "execution_count": 14,
   "metadata": {
    "collapsed": false
   },
   "outputs": [
    {
     "data": {
      "text/plain": [
       "<matplotlib.axes._subplots.AxesSubplot at 0x11b66bb00>"
      ]
     },
     "execution_count": 14,
     "metadata": {},
     "output_type": "execute_result"
    },
    {
     "data": {
      "image/png": "[encoded data removed]",
      "text/plain": [
       "<matplotlib.figure.Figure at 0x11b662748>"
      ]
     },
     "metadata": {},
     "output_type": "display_data"
    }
   ],
   "source": [
    "month = df_posts.groupby(df_posts.date.dt.month)['top_comment'].count()\n",
    "month.plot(x='Month', y='Posts',  title = 'Posts by Month')"
   ]
  },
  {
   "cell_type": "code",
   "execution_count": 15,
   "metadata": {
    "collapsed": false
   },
   "outputs": [
    {
     "data": {
      "text/plain": [
       "<matplotlib.axes._subplots.AxesSubplot at 0x11f7c3a20>"
      ]
     },
     "execution_count": 15,
     "metadata": {},
     "output_type": "execute_result"
    },
    {
     "data": {
      "image/png": "[encoded data removed]",
      "text/plain": [
       "<matplotlib.figure.Figure at 0x11b406f98>"
      ]
     },
     "metadata": {},
     "output_type": "display_data"
    }
   ],
   "source": [
    "month = df_posts.groupby(df_posts.date.dt.date)['top_comment'].count()\n",
    "month.plot(x='date', y='posts',  title = 'Posts by Date')"
   ]
  },
  {
   "cell_type": "code",
   "execution_count": 16,
   "metadata": {
    "collapsed": true
   },
   "outputs": [],
   "source": [
    "df_posts['log_score'] = df_posts['score'].apply(lambda x: np.log(x))"
   ]
  },
  {
   "cell_type": "code",
   "execution_count": 17,
   "metadata": {
    "collapsed": false
   },
   "outputs": [
    {
     "data": {
      "text/plain": [
       "count    57849.000000\n",
       "mean         2.318965\n",
       "std          1.558411\n",
       "min          0.000000\n",
       "25%          1.098612\n",
       "50%          2.302585\n",
       "75%          3.433987\n",
       "max          9.047586\n",
       "Name: log_score, dtype: float64"
      ]
     },
     "execution_count": 17,
     "metadata": {},
     "output_type": "execute_result"
    }
   ],
   "source": [
    "df_posts['log_score'].describe()"
   ]
  },
  {
   "cell_type": "code",
   "execution_count": 18,
   "metadata": {
    "collapsed": true
   },
   "outputs": [],
   "source": [
    "df_posts = df_posts.drop(df_posts[df_posts['score']<5].index)"
   ]
  },
  {
   "cell_type": "code",
   "execution_count": 19,
   "metadata": {
    "collapsed": true
   },
   "outputs": [],
   "source": [
    "df_posts = df_posts.reset_index()"
   ]
  },
  {
   "cell_type": "code",
   "execution_count": 20,
   "metadata": {
    "collapsed": false
   },
   "outputs": [
    {
     "data": {
      "text/html": [
       "<div>\n",
       "<style>\n",
       "    .dataframe thead tr:only-child th {\n",
       "        text-align: right;\n",
       "    }\n",
       "\n",
       "    .dataframe thead th {\n",
       "        text-align: left;\n",
       "    }\n",
       "\n",
       "    .dataframe tbody tr th {\n",
       "        vertical-align: top;\n",
       "    }\n",
       "</style>\n",
       "<table border=\"1\" class=\"dataframe\">\n",
       "  <thead>\n",
       "    <tr style=\"text-align: right;\">\n",
       "      <th></th>\n",
       "      <th>index</th>\n",
       "      <th>date</th>\n",
       "      <th>score</th>\n",
       "      <th>second_comment</th>\n",
       "      <th>top_comment</th>\n",
       "      <th>question</th>\n",
       "      <th>log_score</th>\n",
       "    </tr>\n",
       "  </thead>\n",
       "  <tbody>\n",
       "    <tr>\n",
       "      <th>0</th>\n",
       "      <td>5</td>\n",
       "      <td>2017-08-14 01:13:35</td>\n",
       "      <td>10</td>\n",
       "      <td>It's probably cooked. If it's raw, it will hav...</td>\n",
       "      <td>If it's white and flaky, it's cooked. If it's ...</td>\n",
       "      <td>Is my crab meat cooked? I just got back from v...</td>\n",
       "      <td>2.302585</td>\n",
       "    </tr>\n",
       "    <tr>\n",
       "      <th>1</th>\n",
       "      <td>7</td>\n",
       "      <td>2017-08-13 22:53:34</td>\n",
       "      <td>25</td>\n",
       "      <td>Tarragon?</td>\n",
       "      <td>Yep, tarragon\\n</td>\n",
       "      <td>What is this herb? [I made this more than a fe...</td>\n",
       "      <td>3.218876</td>\n",
       "    </tr>\n",
       "    <tr>\n",
       "      <th>2</th>\n",
       "      <td>8</td>\n",
       "      <td>2017-08-13 22:48:13</td>\n",
       "      <td>17</td>\n",
       "      <td>Even when vanilla isn't accompanied by sugar, ...</td>\n",
       "      <td>yep. you could try to mask it, but honestly no...</td>\n",
       "      <td>Vanilla yogurt in chicken tandoori I'm in the ...</td>\n",
       "      <td>2.833213</td>\n",
       "    </tr>\n",
       "    <tr>\n",
       "      <th>3</th>\n",
       "      <td>12</td>\n",
       "      <td>2017-08-13 20:59:15</td>\n",
       "      <td>30</td>\n",
       "      <td>Looks like you have a pretty comprehensive non...</td>\n",
       "      <td>https://whatscookingamerica.net/alcoholsub.htm</td>\n",
       "      <td>What are non-alcoholic substitutes for alcohol...</td>\n",
       "      <td>3.401197</td>\n",
       "    </tr>\n",
       "    <tr>\n",
       "      <th>4</th>\n",
       "      <td>13</td>\n",
       "      <td>2017-08-13 20:42:36</td>\n",
       "      <td>23</td>\n",
       "      <td>Only thing I can think of is the lime? Have yo...</td>\n",
       "      <td>Do you immediately refrigerate the salsa? If l...</td>\n",
       "      <td>Why does my salsa taste pickle-y I've been rea...</td>\n",
       "      <td>3.135494</td>\n",
       "    </tr>\n",
       "    <tr>\n",
       "      <th>5</th>\n",
       "      <td>14</td>\n",
       "      <td>2017-08-13 19:52:11</td>\n",
       "      <td>9</td>\n",
       "      <td>Less acid should yield smaller curds. How high...</td>\n",
       "      <td>I've over-drained my ricotta before and had lu...</td>\n",
       "      <td>Question about acid and milk - making ricotta ...</td>\n",
       "      <td>2.197225</td>\n",
       "    </tr>\n",
       "    <tr>\n",
       "      <th>6</th>\n",
       "      <td>17</td>\n",
       "      <td>2017-08-13 18:27:42</td>\n",
       "      <td>111</td>\n",
       "      <td>Hospitality chef here, generally I don't think...</td>\n",
       "      <td>Not a chef, but own a bar with a very nice \"up...</td>\n",
       "      <td>Question for professional cooks/chefs: Do nutr...</td>\n",
       "      <td>4.709530</td>\n",
       "    </tr>\n",
       "    <tr>\n",
       "      <th>7</th>\n",
       "      <td>19</td>\n",
       "      <td>2017-08-13 16:47:27</td>\n",
       "      <td>245</td>\n",
       "      <td>The Food Lover's Companion is by far my favori...</td>\n",
       "      <td>[*On Food and Cooking*](https://www.amazon.com...</td>\n",
       "      <td>Where can I find descriptions of the functions...</td>\n",
       "      <td>5.501258</td>\n",
       "    </tr>\n",
       "    <tr>\n",
       "      <th>8</th>\n",
       "      <td>23</td>\n",
       "      <td>2017-08-13 10:20:38</td>\n",
       "      <td>85</td>\n",
       "      <td>Gewurtztraminer!</td>\n",
       "      <td>This sounds like a wonderful meal and you seem...</td>\n",
       "      <td>Cooking a multi-course dinner to thank a frien...</td>\n",
       "      <td>4.442651</td>\n",
       "    </tr>\n",
       "    <tr>\n",
       "      <th>9</th>\n",
       "      <td>24</td>\n",
       "      <td>2017-08-13 08:41:47</td>\n",
       "      <td>15</td>\n",
       "      <td>It is possibly \"sugar bloom\" due to the crysta...</td>\n",
       "      <td>Looks like it's untempered. Temper the chocola...</td>\n",
       "      <td>Help - chocolate dipped marshmallow looks craz...</td>\n",
       "      <td>2.708050</td>\n",
       "    </tr>\n",
       "  </tbody>\n",
       "</table>\n",
       "</div>"
      ],
      "text/plain": [
       "   index                date  score  \\\n",
       "0      5 2017-08-14 01:13:35     10   \n",
       "1      7 2017-08-13 22:53:34     25   \n",
       "2      8 2017-08-13 22:48:13     17   \n",
       "3     12 2017-08-13 20:59:15     30   \n",
       "4     13 2017-08-13 20:42:36     23   \n",
       "5     14 2017-08-13 19:52:11      9   \n",
       "6     17 2017-08-13 18:27:42    111   \n",
       "7     19 2017-08-13 16:47:27    245   \n",
       "8     23 2017-08-13 10:20:38     85   \n",
       "9     24 2017-08-13 08:41:47     15   \n",
       "\n",
       "                                      second_comment  \\\n",
       "0  It's probably cooked. If it's raw, it will hav...   \n",
       "1                                          Tarragon?   \n",
       "2  Even when vanilla isn't accompanied by sugar, ...   \n",
       "3  Looks like you have a pretty comprehensive non...   \n",
       "4  Only thing I can think of is the lime? Have yo...   \n",
       "5  Less acid should yield smaller curds. How high...   \n",
       "6  Hospitality chef here, generally I don't think...   \n",
       "7  The Food Lover's Companion is by far my favori...   \n",
       "8                                   Gewurtztraminer!   \n",
       "9  It is possibly \"sugar bloom\" due to the crysta...   \n",
       "\n",
       "                                         top_comment  \\\n",
       "0  If it's white and flaky, it's cooked. If it's ...   \n",
       "1                                    Yep, tarragon\\n   \n",
       "2  yep. you could try to mask it, but honestly no...   \n",
       "3     https://whatscookingamerica.net/alcoholsub.htm   \n",
       "4  Do you immediately refrigerate the salsa? If l...   \n",
       "5  I've over-drained my ricotta before and had lu...   \n",
       "6  Not a chef, but own a bar with a very nice \"up...   \n",
       "7  [*On Food and Cooking*](https://www.amazon.com...   \n",
       "8  This sounds like a wonderful meal and you seem...   \n",
       "9  Looks like it's untempered. Temper the chocola...   \n",
       "\n",
       "                                            question  log_score  \n",
       "0  Is my crab meat cooked? I just got back from v...   2.302585  \n",
       "1  What is this herb? [I made this more than a fe...   3.218876  \n",
       "2  Vanilla yogurt in chicken tandoori I'm in the ...   2.833213  \n",
       "3  What are non-alcoholic substitutes for alcohol...   3.401197  \n",
       "4  Why does my salsa taste pickle-y I've been rea...   3.135494  \n",
       "5  Question about acid and milk - making ricotta ...   2.197225  \n",
       "6  Question for professional cooks/chefs: Do nutr...   4.709530  \n",
       "7  Where can I find descriptions of the functions...   5.501258  \n",
       "8  Cooking a multi-course dinner to thank a frien...   4.442651  \n",
       "9  Help - chocolate dipped marshmallow looks craz...   2.708050  "
      ]
     },
     "execution_count": 20,
     "metadata": {},
     "output_type": "execute_result"
    }
   ],
   "source": [
    "df_posts.head(10)"
   ]
  },
  {
   "cell_type": "code",
   "execution_count": 21,
   "metadata": {
    "collapsed": true
   },
   "outputs": [],
   "source": [
    "df_posts = df_posts.dropna()"
   ]
  },
  {
   "cell_type": "code",
   "execution_count": 22,
   "metadata": {
    "collapsed": true
   },
   "outputs": [],
   "source": [
    "df_posts = df_posts.reset_index()"
   ]
  },
  {
   "cell_type": "code",
   "execution_count": 23,
   "metadata": {
    "collapsed": false
   },
   "outputs": [
    {
     "data": {
      "text/html": [
       "<div>\n",
       "<style>\n",
       "    .dataframe thead tr:only-child th {\n",
       "        text-align: right;\n",
       "    }\n",
       "\n",
       "    .dataframe thead th {\n",
       "        text-align: left;\n",
       "    }\n",
       "\n",
       "    .dataframe tbody tr th {\n",
       "        vertical-align: top;\n",
       "    }\n",
       "</style>\n",
       "<table border=\"1\" class=\"dataframe\">\n",
       "  <thead>\n",
       "    <tr style=\"text-align: right;\">\n",
       "      <th></th>\n",
       "      <th>level_0</th>\n",
       "      <th>index</th>\n",
       "      <th>date</th>\n",
       "      <th>score</th>\n",
       "      <th>second_comment</th>\n",
       "      <th>top_comment</th>\n",
       "      <th>question</th>\n",
       "      <th>log_score</th>\n",
       "    </tr>\n",
       "  </thead>\n",
       "  <tbody>\n",
       "    <tr>\n",
       "      <th>36383</th>\n",
       "      <td>38268</td>\n",
       "      <td>63589</td>\n",
       "      <td>2014-12-01 17:40:28</td>\n",
       "      <td>16</td>\n",
       "      <td>There's this too: http://amazingribs.com/tips_...</td>\n",
       "      <td>In non-scientific terms, the liquid in the mea...</td>\n",
       "      <td>What's the point of letting meat \"rest?\" Is th...</td>\n",
       "      <td>2.772589</td>\n",
       "    </tr>\n",
       "    <tr>\n",
       "      <th>36384</th>\n",
       "      <td>38270</td>\n",
       "      <td>63591</td>\n",
       "      <td>2014-12-01 13:20:58</td>\n",
       "      <td>219</td>\n",
       "      <td>The only thing that matters is a thermometer. ...</td>\n",
       "      <td>Get a thermometer, and essentially by practice...</td>\n",
       "      <td>How do I cook a perfect steak (grill, pan, or ...</td>\n",
       "      <td>5.389072</td>\n",
       "    </tr>\n",
       "    <tr>\n",
       "      <th>36385</th>\n",
       "      <td>38272</td>\n",
       "      <td>63594</td>\n",
       "      <td>2014-12-01 07:40:19</td>\n",
       "      <td>9</td>\n",
       "      <td>toss it to be safe. buy one that is cooked. do...</td>\n",
       "      <td>If it's already thawed, you shouldn't refreeze...</td>\n",
       "      <td>Not sure if the turkey is safe or not So my mo...</td>\n",
       "      <td>2.197225</td>\n",
       "    </tr>\n",
       "    <tr>\n",
       "      <th>36386</th>\n",
       "      <td>38273</td>\n",
       "      <td>63598</td>\n",
       "      <td>2014-12-01 05:31:24</td>\n",
       "      <td>16</td>\n",
       "      <td>I'm super cheap and still wouldn't do this, if...</td>\n",
       "      <td>Sure! Hush Puppies come from mixing the egg an...</td>\n",
       "      <td>Question about cooking the Eggs you've used fo...</td>\n",
       "      <td>2.772589</td>\n",
       "    </tr>\n",
       "    <tr>\n",
       "      <th>36387</th>\n",
       "      <td>38274</td>\n",
       "      <td>63600</td>\n",
       "      <td>2014-12-01 05:12:23</td>\n",
       "      <td>57</td>\n",
       "      <td>For the less tender cuts deer stroganoff.  Yummy.</td>\n",
       "      <td>Venison fajitas are REALLY good. Also good way...</td>\n",
       "      <td>I brought back half a freezer's worth of deer ...</td>\n",
       "      <td>4.043051</td>\n",
       "    </tr>\n",
       "  </tbody>\n",
       "</table>\n",
       "</div>"
      ],
      "text/plain": [
       "       level_0  index                date  score  \\\n",
       "36383    38268  63589 2014-12-01 17:40:28     16   \n",
       "36384    38270  63591 2014-12-01 13:20:58    219   \n",
       "36385    38272  63594 2014-12-01 07:40:19      9   \n",
       "36386    38273  63598 2014-12-01 05:31:24     16   \n",
       "36387    38274  63600 2014-12-01 05:12:23     57   \n",
       "\n",
       "                                          second_comment  \\\n",
       "36383  There's this too: http://amazingribs.com/tips_...   \n",
       "36384  The only thing that matters is a thermometer. ...   \n",
       "36385  toss it to be safe. buy one that is cooked. do...   \n",
       "36386  I'm super cheap and still wouldn't do this, if...   \n",
       "36387  For the less tender cuts deer stroganoff.  Yummy.   \n",
       "\n",
       "                                             top_comment  \\\n",
       "36383  In non-scientific terms, the liquid in the mea...   \n",
       "36384  Get a thermometer, and essentially by practice...   \n",
       "36385  If it's already thawed, you shouldn't refreeze...   \n",
       "36386  Sure! Hush Puppies come from mixing the egg an...   \n",
       "36387  Venison fajitas are REALLY good. Also good way...   \n",
       "\n",
       "                                                question  log_score  \n",
       "36383  What's the point of letting meat \"rest?\" Is th...   2.772589  \n",
       "36384  How do I cook a perfect steak (grill, pan, or ...   5.389072  \n",
       "36385  Not sure if the turkey is safe or not So my mo...   2.197225  \n",
       "36386  Question about cooking the Eggs you've used fo...   2.772589  \n",
       "36387  I brought back half a freezer's worth of deer ...   4.043051  "
      ]
     },
     "execution_count": 23,
     "metadata": {},
     "output_type": "execute_result"
    }
   ],
   "source": [
    "df_posts.tail()"
   ]
  },
  {
   "cell_type": "code",
   "execution_count": 24,
   "metadata": {
    "collapsed": true
   },
   "outputs": [],
   "source": [
    "df_posts = df_posts.drop(['level_0', 'index'], 1)"
   ]
  },
  {
   "cell_type": "code",
   "execution_count": 2,
   "metadata": {
    "collapsed": true
   },
   "outputs": [],
   "source": [
    "stop = stopwords.words('english')\n",
    "stop += ['.', ',', '(', ')', \"'\", '\"', 'com', 'http', 'www', 'https', 'youtube', 'watch', 'video', \n",
    "         'imgur', 'watch', 'imgur', 'gallery', 'jpg', 'like', 'make', 'cooking', 'would', 'cook', 'recipe', 'recipes', \n",
    "         'good', 'use', 'one', 'get', 'know', 'want', 'really', 'something', 'help', 'thanks', 'need', 'anyone', \n",
    "         'looking', 'making', 'way', 'much', 'ideas', 'made', 'add', 'also', 'could', 'using', 'food', 'go',\n",
    "         'things', 'got', 'going', 'think', 'people', 'lot', 'work', 'day', 'well', 'try', 'find', \n",
    "         'put', 'even', 'edit', 'anything']"
   ]
  },
  {
   "cell_type": "code",
   "execution_count": 3,
   "metadata": {
    "collapsed": true
   },
   "outputs": [],
   "source": [
    "n_components = 25\n",
    "n_features = 1500\n",
    "n_top_words = 10"
   ]
  },
  {
   "cell_type": "code",
   "execution_count": 27,
   "metadata": {
    "collapsed": true
   },
   "outputs": [],
   "source": [
    "tfvtrim = TfidfVectorizer(stop_words=stop, ngram_range=(1,2), min_df = 2, max_df = .95, strip_accents = 'ascii')\n",
    "tfvtrim.fit(df_posts['question'])\n",
    "tfvectorstrim = tfvtrim.transform(df_posts['question'])"
   ]
  },
  {
   "cell_type": "code",
   "execution_count": 28,
   "metadata": {
    "collapsed": false
   },
   "outputs": [
    {
     "name": "stdout",
     "output_type": "stream",
     "text": [
      "Topic #0: time first salt water best little used ingredients butter suggestions\n",
      "Topic #1: chicken breast breasts chicken breast fried chicken chicken breasts fried stock thighs chicken stock\n",
      "Topic #2: iron cast cast iron skillet iron skillet iron pan seasoning skillets lodge seasoned\n",
      "Topic #3: rice rice cooker fried rice cooker brown rice fried white rice water white brown\n",
      "Topic #4: pork pulled pork pulled belly pork belly shoulder pork shoulder chops pork chops fat\n",
      "Topic #5: oil olive olive oil garlic frying canola oils deep vegetable oil salt\n",
      "Topic #6: cream ice ice cream heavy heavy cream whipped whipped cream chocolate cream maker maker\n",
      "Topic #7: sauce tomato tomato sauce soy soy sauce hot sauce hot tomatoes garlic sauces\n",
      "Topic #8: pizza dough pizza dough bread flour stone yeast crust pizza stone homemade pizza\n",
      "Topic #9: beef ground ground beef stew beef stew corned roast corned beef cut wellington\n",
      "Topic #10: cheese mac mac cheese cheese sauce cheddar cream cheese macaroni cheeses macaroni cheese cream\n",
      "Topic #11: knife knives chef chef knife sharpening set sharpener steel sharpen kitchen\n",
      "Topic #12: meat cut cooked thermometer cut meat cuts lamb grinder vegetarian fat\n",
      "Topic #13: eggs egg scrambled whites scrambled eggs yolk yolks breakfast boiled egg whites\n",
      "Topic #14: oven dutch dutch oven stove roast convection temperature ribs baking microwave\n",
      "Topic #15: pasta pasta sauce fresh pasta water pasta water homemade pasta spaghetti noodles pasta dish fresh\n",
      "Topic #16: cooker slow slow cooker pressure pressure cooker rice cooker pot crock hours crock pot\n",
      "Topic #17: sous vide sous vide steak steaks rare sear temperature medium rare medium\n",
      "Topic #18: soup stock broth bones onion onion soup chicken stock soups noodle french onion\n",
      "Topic #19: beans chili black black beans bean dried canned kidney green green beans\n",
      "Topic #20: potatoes potato mashed sweet mashed potatoes sweet potato sweet potatoes baked roasted fries\n",
      "Topic #21: pan steel stainless stainless steel pans stick non stick non heat frying\n",
      "Topic #22: turkey thanksgiving brine bird brining year ground turkey turkey breast breast dry\n",
      "Topic #23: fish salmon fish sauce sushi fish tacos seafood cod tacos fish chips frozen\n",
      "Topic #24: milk coconut curry coconut milk thai paste curry paste powder thai curry coconut oil\n",
      "\n"
     ]
    }
   ],
   "source": [
    "nmftrim = NMF(n_components=n_components, alpha=.1, l1_ratio=.5).fit(tfvectorstrim)\n",
    "print_top_words(nmftrim, tfvtrim.get_feature_names(), n_top_words)\n"
   ]
  },
  {
   "cell_type": "code",
   "execution_count": 29,
   "metadata": {
    "collapsed": false
   },
   "outputs": [
    {
     "data": {
      "image/png": "[encoded data removed]",
      "text/plain": [
       "<matplotlib.figure.Figure at 0x11febe198>"
      ]
     },
     "metadata": {},
     "output_type": "display_data"
    }
   ],
   "source": [
    "topic_count = get_counts(nmftrim.transform(tfvectorstrim))\n",
    "\n",
    "plt.bar(range(len(topic_count)), topic_count.values(), align='center')\n",
    "plt.xticks(range(len(topic_count)), topic_count.keys())\n",
    "\n",
    "plt.show() "
   ]
  },
  {
   "cell_type": "code",
   "execution_count": 30,
   "metadata": {
    "collapsed": false
   },
   "outputs": [
    {
     "data": {
      "text/plain": [
       "count    36388.000000\n",
       "mean         7.047900\n",
       "std          7.826262\n",
       "min          0.000000\n",
       "25%          0.000000\n",
       "50%          4.000000\n",
       "75%         13.000000\n",
       "max         24.000000\n",
       "Name: topic, dtype: float64"
      ]
     },
     "execution_count": 30,
     "metadata": {},
     "output_type": "execute_result"
    }
   ],
   "source": [
    "topics = nmftrim.transform(tfvectorstrim)\n",
    "topicslist = []\n",
    "for x in topics:\n",
    "    topicslist.append(get_top_topic(x))\n",
    "df_posts['topic'] = topicslist\n",
    "\n",
    "df_posts['topic'].describe()"
   ]
  },
  {
   "cell_type": "markdown",
   "metadata": {},
   "source": [
    "Should I do subcategories? Nah; not enough spread of the other topics"
   ]
  },
  {
   "cell_type": "code",
   "execution_count": 31,
   "metadata": {
    "collapsed": false
   },
   "outputs": [
    {
     "name": "stdout",
     "output_type": "stream",
     "text": [
      "Topic #0: time kitchen best ingredients first love eat suggestions new dish\n",
      "Topic #1: butter peanut peanut butter unsalted salted unsalted butter salted butter cookies peanuts clarified\n",
      "Topic #2: chocolate cake cookies chocolate cake chocolate chip chip mousse cocoa white chocolate cookie\n",
      "Topic #3: baking bread soda flour powder baking soda baking powder sugar cup banana\n",
      "Topic #4: favorite favorite cookbook favorite thing cookbook favorite year share favorite shows favorite easy favorite ways love\n",
      "\n"
     ]
    },
    {
     "data": {
      "image/png": "[encoded data removed]",
      "text/plain": [
       "<matplotlib.figure.Figure at 0x1138f19b0>"
      ]
     },
     "metadata": {},
     "output_type": "display_data"
    }
   ],
   "source": [
    "tft0 = tfvtrim.transform(df_posts[df_posts['topic'] == 0]['question'])\n",
    "nmftrim0 = NMF(n_components=5, alpha=.1, l1_ratio=.5).fit(tft0)\n",
    "print_top_words(nmftrim0, tfvtrim.get_feature_names(), n_top_words)\n",
    "\n",
    "topic0_count = get_counts(nmftrim0.transform(tft0))\n",
    "\n",
    "plt.bar(range(len(topic0_count)), topic0_count.values(), align='center')\n",
    "plt.xticks(range(len(topic0_count)), topic0_count.keys())\n",
    "\n",
    "plt.show() "
   ]
  },
  {
   "cell_type": "code",
   "execution_count": 32,
   "metadata": {
    "collapsed": false
   },
   "outputs": [
    {
     "data": {
      "text/html": [
       "<div>\n",
       "<style>\n",
       "    .dataframe thead tr:only-child th {\n",
       "        text-align: right;\n",
       "    }\n",
       "\n",
       "    .dataframe thead th {\n",
       "        text-align: left;\n",
       "    }\n",
       "\n",
       "    .dataframe tbody tr th {\n",
       "        vertical-align: top;\n",
       "    }\n",
       "</style>\n",
       "<table border=\"1\" class=\"dataframe\">\n",
       "  <thead>\n",
       "    <tr style=\"text-align: right;\">\n",
       "      <th></th>\n",
       "      <th>date</th>\n",
       "      <th>score</th>\n",
       "      <th>second_comment</th>\n",
       "      <th>top_comment</th>\n",
       "      <th>question</th>\n",
       "      <th>log_score</th>\n",
       "      <th>topic</th>\n",
       "    </tr>\n",
       "  </thead>\n",
       "  <tbody>\n",
       "    <tr>\n",
       "      <th>0</th>\n",
       "      <td>2017-08-14 01:13:35</td>\n",
       "      <td>10</td>\n",
       "      <td>It's probably cooked. If it's raw, it will hav...</td>\n",
       "      <td>If it's white and flaky, it's cooked. If it's ...</td>\n",
       "      <td>Is my crab meat cooked? I just got back from v...</td>\n",
       "      <td>2.302585</td>\n",
       "      <td>12</td>\n",
       "    </tr>\n",
       "    <tr>\n",
       "      <th>1</th>\n",
       "      <td>2017-08-13 22:53:34</td>\n",
       "      <td>25</td>\n",
       "      <td>Tarragon?</td>\n",
       "      <td>Yep, tarragon\\n</td>\n",
       "      <td>What is this herb? [I made this more than a fe...</td>\n",
       "      <td>3.218876</td>\n",
       "      <td>0</td>\n",
       "    </tr>\n",
       "    <tr>\n",
       "      <th>2</th>\n",
       "      <td>2017-08-13 22:48:13</td>\n",
       "      <td>17</td>\n",
       "      <td>Even when vanilla isn't accompanied by sugar, ...</td>\n",
       "      <td>yep. you could try to mask it, but honestly no...</td>\n",
       "      <td>Vanilla yogurt in chicken tandoori I'm in the ...</td>\n",
       "      <td>2.833213</td>\n",
       "      <td>1</td>\n",
       "    </tr>\n",
       "    <tr>\n",
       "      <th>3</th>\n",
       "      <td>2017-08-13 20:59:15</td>\n",
       "      <td>30</td>\n",
       "      <td>Looks like you have a pretty comprehensive non...</td>\n",
       "      <td>https://whatscookingamerica.net/alcoholsub.htm</td>\n",
       "      <td>What are non-alcoholic substitutes for alcohol...</td>\n",
       "      <td>3.401197</td>\n",
       "      <td>7</td>\n",
       "    </tr>\n",
       "    <tr>\n",
       "      <th>4</th>\n",
       "      <td>2017-08-13 20:42:36</td>\n",
       "      <td>23</td>\n",
       "      <td>Only thing I can think of is the lime? Have yo...</td>\n",
       "      <td>Do you immediately refrigerate the salsa? If l...</td>\n",
       "      <td>Why does my salsa taste pickle-y I've been rea...</td>\n",
       "      <td>3.135494</td>\n",
       "      <td>0</td>\n",
       "    </tr>\n",
       "  </tbody>\n",
       "</table>\n",
       "</div>"
      ],
      "text/plain": [
       "                 date  score  \\\n",
       "0 2017-08-14 01:13:35     10   \n",
       "1 2017-08-13 22:53:34     25   \n",
       "2 2017-08-13 22:48:13     17   \n",
       "3 2017-08-13 20:59:15     30   \n",
       "4 2017-08-13 20:42:36     23   \n",
       "\n",
       "                                      second_comment  \\\n",
       "0  It's probably cooked. If it's raw, it will hav...   \n",
       "1                                          Tarragon?   \n",
       "2  Even when vanilla isn't accompanied by sugar, ...   \n",
       "3  Looks like you have a pretty comprehensive non...   \n",
       "4  Only thing I can think of is the lime? Have yo...   \n",
       "\n",
       "                                         top_comment  \\\n",
       "0  If it's white and flaky, it's cooked. If it's ...   \n",
       "1                                    Yep, tarragon\\n   \n",
       "2  yep. you could try to mask it, but honestly no...   \n",
       "3     https://whatscookingamerica.net/alcoholsub.htm   \n",
       "4  Do you immediately refrigerate the salsa? If l...   \n",
       "\n",
       "                                            question  log_score  topic  \n",
       "0  Is my crab meat cooked? I just got back from v...   2.302585     12  \n",
       "1  What is this herb? [I made this more than a fe...   3.218876      0  \n",
       "2  Vanilla yogurt in chicken tandoori I'm in the ...   2.833213      1  \n",
       "3  What are non-alcoholic substitutes for alcohol...   3.401197      7  \n",
       "4  Why does my salsa taste pickle-y I've been rea...   3.135494      0  "
      ]
     },
     "execution_count": 32,
     "metadata": {},
     "output_type": "execute_result"
    }
   ],
   "source": [
    "df_posts.head()"
   ]
  },
  {
   "cell_type": "code",
   "execution_count": null,
   "metadata": {
    "collapsed": true
   },
   "outputs": [],
   "source": []
  },
  {
   "cell_type": "markdown",
   "metadata": {},
   "source": [
    "Testing things out"
   ]
  },
  {
   "cell_type": "code",
   "execution_count": 33,
   "metadata": {
    "collapsed": true
   },
   "outputs": [],
   "source": [
    "text = \"\"\"how do i make the best guacamole?\"\"\"\n",
    "\n",
    "\n"
   ]
  },
  {
   "cell_type": "code",
   "execution_count": 36,
   "metadata": {
    "collapsed": false
   },
   "outputs": [],
   "source": [
    "df_123 = get_predict_df(text)\n",
    "\n"
   ]
  },
  {
   "cell_type": "code",
   "execution_count": 37,
   "metadata": {
    "collapsed": true
   },
   "outputs": [],
   "source": [
    "null_responses = [\"Sorry I have no clue, I'm dumb\", \"Ask again later\", \"Malfunctioning. Malfunctioning\"]\n",
    "\n"
   ]
  },
  {
   "cell_type": "code",
   "execution_count": 49,
   "metadata": {
    "collapsed": false
   },
   "outputs": [
    {
     "name": "stdout",
     "output_type": "stream",
     "text": [
      "I find Alton Brown's recipe is always a crowd pleaser!\n",
      "http://www.foodnetwork.com/recipes/alton-brown/guacamole-recipe.html http://www.seriouseats.com/2012/01/the-food-lab-the-best-guacamole-avocados-science-browning-ripening.html\n",
      "http://www.seriouseats.com/recipes/2012/01/the-best-basic-guacamole-recipe.html\n"
     ]
    }
   ],
   "source": [
    "if df_123.iloc[0]['similarity'] == 0:\n",
    "    print(random.randint(len(null_responses)))\n",
    "else:\n",
    "    a = ' '.join(df_123.iloc[0][['top_comment', 'second_comment']])\n",
    "\n",
    "    summary = summarize(a, 3)\n",
    "    for s in summary:\n",
    "        print(str(s))\n"
   ]
  },
  {
   "cell_type": "code",
   "execution_count": 40,
   "metadata": {
    "collapsed": false
   },
   "outputs": [
    {
     "name": "stdout",
     "output_type": "stream",
     "text": [
      "When storing leftover guacamole, put it in a glass bowl, and spread evenly in the bowl so that the entire guac surface is flat.\n",
      "Then, lightly spritz the top of your guac with FRESH SQUEEZED lime juice.\n",
      "Finally, put your fist inside a large piece of plastic wrap, then put your fist gently in the center of your glass bowl, and evenly spread out the plastic wrap from center out to edges, doing your best to force out any and all air pockets from between the guac and the plastic wrap.\n",
      "The idea is to have direct contact between the plastic wrap and the guac on the entire surface of the guac.\n",
      "squeeze lemon or lime on top of your guac and then press down some cling wrap on top of it.\n"
     ]
    }
   ],
   "source": [
    "if df_123.iloc[0]['similarity'] == 0:\n",
    "    print(random.randint(len(null_responses)))\n",
    "else:\n",
    "    b = ' '.join(df_123.iloc[1][['top_comment', 'second_comment']])\n",
    "\n",
    "    summary = summarize(b, 5)\n",
    "    for s in summary:\n",
    "        print(s)"
   ]
  },
  {
   "cell_type": "code",
   "execution_count": 41,
   "metadata": {
    "collapsed": false
   },
   "outputs": [
    {
     "name": "stdout",
     "output_type": "stream",
     "text": [
      "[deleted] Add cumin, don't undersalt.\n"
     ]
    }
   ],
   "source": [
    "if df_123.iloc[0]['similarity'] == 0:\n",
    "    print(random.randint(len(null_responses)))\n",
    "else:\n",
    "    c = ' '.join(df_123.iloc[2][['top_comment', 'second_comment']])\n",
    "\n",
    "    summary = summarize(c, 5)\n",
    "    for s in summary:\n",
    "        print(s)"
   ]
  },
  {
   "cell_type": "markdown",
   "metadata": {},
   "source": [
    "Let's see if we can predict score based on subcategory and hour/day of week for the question. Pulling in a DF that I made in my visualization notebook already coded with subcategories"
   ]
  },
  {
   "cell_type": "code",
   "execution_count": 4,
   "metadata": {
    "collapsed": false
   },
   "outputs": [],
   "source": [
    "df_sub = pd.read_pickle('df_subcats')"
   ]
  },
  {
   "cell_type": "code",
   "execution_count": 24,
   "metadata": {
    "collapsed": false
   },
   "outputs": [
    {
     "data": {
      "text/html": [
       "<div>\n",
       "<style>\n",
       "    .dataframe thead tr:only-child th {\n",
       "        text-align: right;\n",
       "    }\n",
       "\n",
       "    .dataframe thead th {\n",
       "        text-align: left;\n",
       "    }\n",
       "\n",
       "    .dataframe tbody tr th {\n",
       "        vertical-align: top;\n",
       "    }\n",
       "</style>\n",
       "<table border=\"1\" class=\"dataframe\">\n",
       "  <thead>\n",
       "    <tr style=\"text-align: right;\">\n",
       "      <th></th>\n",
       "      <th>date</th>\n",
       "      <th>score</th>\n",
       "      <th>second_comment</th>\n",
       "      <th>top_comment</th>\n",
       "      <th>question</th>\n",
       "      <th>log_score</th>\n",
       "      <th>topic</th>\n",
       "      <th>subcategory</th>\n",
       "    </tr>\n",
       "  </thead>\n",
       "  <tbody>\n",
       "    <tr>\n",
       "      <th>1</th>\n",
       "      <td>2017-08-13 22:53:34</td>\n",
       "      <td>25</td>\n",
       "      <td>Tarragon?</td>\n",
       "      <td>Yep, tarragon\\n</td>\n",
       "      <td>What is this herb? [I made this more than a fe...</td>\n",
       "      <td>3.218876</td>\n",
       "      <td>0</td>\n",
       "      <td>0</td>\n",
       "    </tr>\n",
       "    <tr>\n",
       "      <th>4</th>\n",
       "      <td>2017-08-13 20:42:36</td>\n",
       "      <td>23</td>\n",
       "      <td>Only thing I can think of is the lime? Have yo...</td>\n",
       "      <td>Do you immediately refrigerate the salsa? If l...</td>\n",
       "      <td>Why does my salsa taste pickle-y I've been rea...</td>\n",
       "      <td>3.135494</td>\n",
       "      <td>0</td>\n",
       "      <td>0</td>\n",
       "    </tr>\n",
       "    <tr>\n",
       "      <th>6</th>\n",
       "      <td>2017-08-13 18:27:42</td>\n",
       "      <td>111</td>\n",
       "      <td>Hospitality chef here, generally I don't think...</td>\n",
       "      <td>Not a chef, but own a bar with a very nice \"up...</td>\n",
       "      <td>Question for professional cooks/chefs: Do nutr...</td>\n",
       "      <td>4.709530</td>\n",
       "      <td>0</td>\n",
       "      <td>3</td>\n",
       "    </tr>\n",
       "    <tr>\n",
       "      <th>9</th>\n",
       "      <td>2017-08-13 08:41:47</td>\n",
       "      <td>15</td>\n",
       "      <td>It is possibly \"sugar bloom\" due to the crysta...</td>\n",
       "      <td>Looks like it's untempered. Temper the chocola...</td>\n",
       "      <td>Help - chocolate dipped marshmallow looks craz...</td>\n",
       "      <td>2.708050</td>\n",
       "      <td>0</td>\n",
       "      <td>2</td>\n",
       "    </tr>\n",
       "    <tr>\n",
       "      <th>19</th>\n",
       "      <td>2017-08-12 23:56:02</td>\n",
       "      <td>5</td>\n",
       "      <td>Look up Mexican street corn dip recipes. Great...</td>\n",
       "      <td>Corn chowder. Slice the corn off of the cob an...</td>\n",
       "      <td>Recipes to use up a lot of corn on the cob/swe...</td>\n",
       "      <td>1.609438</td>\n",
       "      <td>0</td>\n",
       "      <td>3</td>\n",
       "    </tr>\n",
       "  </tbody>\n",
       "</table>\n",
       "</div>"
      ],
      "text/plain": [
       "                  date  score  \\\n",
       "1  2017-08-13 22:53:34     25   \n",
       "4  2017-08-13 20:42:36     23   \n",
       "6  2017-08-13 18:27:42    111   \n",
       "9  2017-08-13 08:41:47     15   \n",
       "19 2017-08-12 23:56:02      5   \n",
       "\n",
       "                                       second_comment  \\\n",
       "1                                           Tarragon?   \n",
       "4   Only thing I can think of is the lime? Have yo...   \n",
       "6   Hospitality chef here, generally I don't think...   \n",
       "9   It is possibly \"sugar bloom\" due to the crysta...   \n",
       "19  Look up Mexican street corn dip recipes. Great...   \n",
       "\n",
       "                                          top_comment  \\\n",
       "1                                     Yep, tarragon\\n   \n",
       "4   Do you immediately refrigerate the salsa? If l...   \n",
       "6   Not a chef, but own a bar with a very nice \"up...   \n",
       "9   Looks like it's untempered. Temper the chocola...   \n",
       "19  Corn chowder. Slice the corn off of the cob an...   \n",
       "\n",
       "                                             question  log_score  topic  \\\n",
       "1   What is this herb? [I made this more than a fe...   3.218876      0   \n",
       "4   Why does my salsa taste pickle-y I've been rea...   3.135494      0   \n",
       "6   Question for professional cooks/chefs: Do nutr...   4.709530      0   \n",
       "9   Help - chocolate dipped marshmallow looks craz...   2.708050      0   \n",
       "19  Recipes to use up a lot of corn on the cob/swe...   1.609438      0   \n",
       "\n",
       "    subcategory  \n",
       "1             0  \n",
       "4             0  \n",
       "6             3  \n",
       "9             2  \n",
       "19            3  "
      ]
     },
     "execution_count": 24,
     "metadata": {},
     "output_type": "execute_result"
    }
   ],
   "source": [
    "df_sub.head()"
   ]
  },
  {
   "cell_type": "code",
   "execution_count": 5,
   "metadata": {
    "collapsed": true
   },
   "outputs": [],
   "source": [
    "df_sub = df_sub.drop(['date', 'second_comment', 'top_comment'], 1)"
   ]
  },
  {
   "cell_type": "code",
   "execution_count": 6,
   "metadata": {
    "collapsed": false
   },
   "outputs": [
    {
     "name": "stderr",
     "output_type": "stream",
     "text": [
      "/Users/leangchaing/anaconda3/lib/python3.6/site-packages/statsmodels/compat/pandas.py:56: FutureWarning: The pandas.core.datetools module is deprecated and will be removed in a future version. Please use the pandas.tseries module instead.\n",
      "  from pandas.core import datetools\n"
     ]
    }
   ],
   "source": [
    "from sklearn.linear_model import LinearRegression\n",
    "from sklearn.metrics import mean_squared_error, r2_score\n",
    "from sklearn.isotonic import IsotonicRegression\n",
    "from sklearn.model_selection import train_test_split\n",
    "import statsmodels.api as sm"
   ]
  },
  {
   "cell_type": "code",
   "execution_count": 7,
   "metadata": {
    "collapsed": true
   },
   "outputs": [],
   "source": [
    "tf = TfidfVectorizer(stop_words=stop, ngram_range=(1,2), min_df = 2, max_df = .95, strip_accents = 'ascii')"
   ]
  },
  {
   "cell_type": "code",
   "execution_count": 8,
   "metadata": {
    "collapsed": true
   },
   "outputs": [],
   "source": [
    "df_sub0 = df_sub[df_sub['topic']==0].reset_index()"
   ]
  },
  {
   "cell_type": "code",
   "execution_count": 9,
   "metadata": {
    "collapsed": true
   },
   "outputs": [],
   "source": [
    "tf0 = tf.fit(df_sub0['question'])"
   ]
  },
  {
   "cell_type": "code",
   "execution_count": 10,
   "metadata": {
    "collapsed": false
   },
   "outputs": [],
   "source": [
    "tfv0 = pd.DataFrame(tf0.transform(df_sub0['question']).toarray(), columns = tf0.get_feature_names())"
   ]
  },
  {
   "cell_type": "code",
   "execution_count": 11,
   "metadata": {
    "collapsed": false
   },
   "outputs": [],
   "source": [
    "lr = LinearRegression()"
   ]
  },
  {
   "cell_type": "code",
   "execution_count": null,
   "metadata": {
    "collapsed": false
   },
   "outputs": [],
   "source": [
    "lr.fit(tfv0, df_sub0['log_score'])"
   ]
  },
  {
   "cell_type": "code",
   "execution_count": null,
   "metadata": {
    "collapsed": false
   },
   "outputs": [],
   "source": [
    "lr.score()"
   ]
  },
  {
   "cell_type": "code",
   "execution_count": 22,
   "metadata": {
    "collapsed": false
   },
   "outputs": [],
   "source": []
  },
  {
   "cell_type": "code",
   "execution_count": 19,
   "metadata": {
    "collapsed": false
   },
   "outputs": [],
   "source": []
  },
  {
   "cell_type": "code",
   "execution_count": null,
   "metadata": {
    "collapsed": false
   },
   "outputs": [],
   "source": []
  },
  {
   "cell_type": "code",
   "execution_count": null,
   "metadata": {
    "collapsed": true
   },
   "outputs": [],
   "source": []
  }
 ],
 "metadata": {
  "kernelspec": {
   "display_name": "Python 3",
   "language": "python",
   "name": "python3"
  },
  "language_info": {
   "codemirror_mode": {
    "name": "ipython",
    "version": 3
   },
   "file_extension": ".py",
   "mimetype": "text/x-python",
   "name": "python",
   "nbconvert_exporter": "python",
   "pygments_lexer": "ipython3",
   "version": "3.6.0"
  }
 },
 "nbformat": 4,
 "nbformat_minor": 2
}
