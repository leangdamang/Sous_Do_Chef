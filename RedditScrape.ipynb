{
 "cells": [
  {
   "cell_type": "code",
   "execution_count": 69,
   "metadata": {
    "collapsed": true
   },
   "outputs": [],
   "source": [
    "from __future__ import print_function\n",
    "import json\n",
    "import praw\n",
    "import os\n",
    "import pandas as pd\n",
    "import datetime \n",
    "from pymongo import MongoClient\n",
    "import time\n",
    "\n",
    "def get_date(post):\n",
    "    return datetime.datetime.fromtimestamp(post.created)\n",
    "\n",
    "def get_top_comment(post):\n",
    "    for top_comment in post.comments:\n",
    "        return(top_comment.body)\n",
    "\n",
    "def get_second_comment(post):\n",
    "    ct = 0\n",
    "    for top_comment in post.comments:\n",
    "        if ct ==0:\n",
    "            ct+=1\n",
    "            continue\n",
    "        return(top_comment.body)\n",
    "        \n",
    "def insert_mondo(start, end, subreddit, db):\n",
    "    for post in subreddit.submissions(start, end):\n",
    "        data = {}\n",
    "        data['title'] = post.title\n",
    "        data['text'] = post.selftext\n",
    "        data['score'] = post.score\n",
    "        data['date'] = get_date(post)\n",
    "        data['top_comment'] = get_top_comment(post)\n",
    "        data['second_comment'] = get_second_comment(post)\n",
    "        db.replace_one(data, data, upsert = True)\n",
    "        time.sleep(.5)\n"
   ]
  },
  {
   "cell_type": "code",
   "execution_count": 70,
   "metadata": {
    "collapsed": true
   },
   "outputs": [],
   "source": [
    "auth = praw.Reddit(client_id='yNap7WCziQocDQ',\n",
    "                     client_secret='wZjAdpMzJkSeos4835VmwOjcLDA', password='Z4k6Ijnos',\n",
    "                     user_agent='CulinaryBotv1', username='leangdamang')\n"
   ]
  },
  {
   "cell_type": "code",
   "execution_count": 71,
   "metadata": {
    "collapsed": true
   },
   "outputs": [],
   "source": [
    "askculinary = auth.subreddit('askculinary+cooking')\n",
    "\n"
   ]
  },
  {
   "cell_type": "code",
   "execution_count": 60,
   "metadata": {
    "collapsed": false
   },
   "outputs": [
    {
     "name": "stdout",
     "output_type": "stream",
     "text": [
      "Title:  As if 2016 couldn't get any worse, I just saw a coworker put mayonnaise in the guacamole she was making for our office potluck\n",
      "Text:  \n",
      "Score:  8496\n",
      "Date: 2016-12-28 00:17:49\n",
      "Top_Comment: Wait til you hear that a lot of people mash up peas and put them in guac.\n",
      "Second_Comment: my sister did this.  she also thinks garlic salt is the same thing as garlic powder.\n",
      "---------------------------------\n",
      "\n"
     ]
    }
   ],
   "source": [
    "for post in askculinary.top(limit=1):\n",
    "    print(\"Title: \", post.title)\n",
    "    print(\"Text: \", post.selftext)\n",
    "    print(\"Score: \", post.score)\n",
    "    print(\"Date:\",get_date(post))\n",
    "    print(\"Top_Comment:\", get_top_comment(post))\n",
    "    print(\"Second_Comment:\", get_second_comment(post))\n",
    "    print(\"---------------------------------\\n\")"
   ]
  },
  {
   "cell_type": "code",
   "execution_count": 72,
   "metadata": {
    "collapsed": true
   },
   "outputs": [],
   "source": [
    "client = MongoClient()\n",
    "db = client.culinary\n",
    "posts = db.postsv3\n"
   ]
  },
  {
   "cell_type": "code",
   "execution_count": 73,
   "metadata": {
    "collapsed": false
   },
   "outputs": [
    {
     "data": {
      "text/plain": [
       "38677"
      ]
     },
     "execution_count": 73,
     "metadata": {},
     "output_type": "execute_result"
    }
   ],
   "source": [
    "db.collection_names()\n",
    "posts.count()\n"
   ]
  },
  {
   "cell_type": "code",
   "execution_count": 77,
   "metadata": {
    "collapsed": false
   },
   "outputs": [
    {
     "name": "stdout",
     "output_type": "stream",
     "text": [
      "12/14 63602\n"
     ]
    }
   ],
   "source": [
    "insert_mondo(1491004800, 1433116800, askculinary, posts)\n",
    "print('12/14', posts.count())\n"
   ]
  },
  {
   "cell_type": "code",
   "execution_count": 78,
   "metadata": {
    "collapsed": false
   },
   "outputs": [
    {
     "name": "stdout",
     "output_type": "stream",
     "text": [
      "2014-12-01 03:19:10\n"
     ]
    }
   ],
   "source": [
    "for post in posts.find()[posts.count()-1:posts.count()]:\n",
    "      print(post['date'])"
   ]
  },
  {
   "cell_type": "code",
   "execution_count": null,
   "metadata": {
    "collapsed": true
   },
   "outputs": [],
   "source": []
  }
 ],
 "metadata": {
  "kernelspec": {
   "display_name": "Python 3",
   "language": "python",
   "name": "python3"
  },
  "language_info": {
   "codemirror_mode": {
    "name": "ipython",
    "version": 3
   },
   "file_extension": ".py",
   "mimetype": "text/x-python",
   "name": "python",
   "nbconvert_exporter": "python",
   "pygments_lexer": "ipython3",
   "version": "3.6.0"
  }
 },
 "nbformat": 4,
 "nbformat_minor": 2
}
